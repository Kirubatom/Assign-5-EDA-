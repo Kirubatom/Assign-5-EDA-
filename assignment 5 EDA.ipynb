{
 "cells": [
  {
   "cell_type": "code",
   "execution_count": 3,
   "id": "6fce22e9",
   "metadata": {},
   "outputs": [],
   "source": [
    "import pandas as pd\n",
    "import numpy as np\n",
    "import seaborn as sns\n",
    "import matplotlib.pyplot as plt\n",
    "from scipy import stats\n",
    "import statsmodels.api as  sm\n"
   ]
  },
  {
   "cell_type": "code",
   "execution_count": 208,
   "id": "2862dfb7",
   "metadata": {},
   "outputs": [
    {
     "data": {
      "text/html": [
       "<div>\n",
       "<style scoped>\n",
       "    .dataframe tbody tr th:only-of-type {\n",
       "        vertical-align: middle;\n",
       "    }\n",
       "\n",
       "    .dataframe tbody tr th {\n",
       "        vertical-align: top;\n",
       "    }\n",
       "\n",
       "    .dataframe thead th {\n",
       "        text-align: right;\n",
       "    }\n",
       "</style>\n",
       "<table border=\"1\" class=\"dataframe\">\n",
       "  <thead>\n",
       "    <tr style=\"text-align: right;\">\n",
       "      <th></th>\n",
       "      <th>symboling</th>\n",
       "      <th>normalized_losses</th>\n",
       "      <th>make</th>\n",
       "      <th>fuel_type</th>\n",
       "      <th>aspiration</th>\n",
       "      <th>num_of_doors</th>\n",
       "      <th>body_style</th>\n",
       "      <th>drive_wheels</th>\n",
       "      <th>engine_location</th>\n",
       "      <th>wheel_base</th>\n",
       "      <th>...</th>\n",
       "      <th>engine_size</th>\n",
       "      <th>fuel_system</th>\n",
       "      <th>bore</th>\n",
       "      <th>stroke</th>\n",
       "      <th>compression_ratio</th>\n",
       "      <th>horsepower</th>\n",
       "      <th>peak_rpm</th>\n",
       "      <th>city_mpg</th>\n",
       "      <th>highway_mpg</th>\n",
       "      <th>price</th>\n",
       "    </tr>\n",
       "  </thead>\n",
       "  <tbody>\n",
       "    <tr>\n",
       "      <th>0</th>\n",
       "      <td>3</td>\n",
       "      <td>NaN</td>\n",
       "      <td>alfa-romero</td>\n",
       "      <td>gas</td>\n",
       "      <td>std</td>\n",
       "      <td>two</td>\n",
       "      <td>convertible</td>\n",
       "      <td>rwd</td>\n",
       "      <td>front</td>\n",
       "      <td>88.6</td>\n",
       "      <td>...</td>\n",
       "      <td>130</td>\n",
       "      <td>mpfi</td>\n",
       "      <td>3.47</td>\n",
       "      <td>2.68</td>\n",
       "      <td>9.0</td>\n",
       "      <td>111.0</td>\n",
       "      <td>5000.0</td>\n",
       "      <td>21</td>\n",
       "      <td>27</td>\n",
       "      <td>13495.0</td>\n",
       "    </tr>\n",
       "    <tr>\n",
       "      <th>1</th>\n",
       "      <td>3</td>\n",
       "      <td>NaN</td>\n",
       "      <td>alfa-romero</td>\n",
       "      <td>gas</td>\n",
       "      <td>std</td>\n",
       "      <td>two</td>\n",
       "      <td>convertible</td>\n",
       "      <td>rwd</td>\n",
       "      <td>front</td>\n",
       "      <td>88.6</td>\n",
       "      <td>...</td>\n",
       "      <td>130</td>\n",
       "      <td>mpfi</td>\n",
       "      <td>3.47</td>\n",
       "      <td>2.68</td>\n",
       "      <td>9.0</td>\n",
       "      <td>111.0</td>\n",
       "      <td>5000.0</td>\n",
       "      <td>21</td>\n",
       "      <td>27</td>\n",
       "      <td>16500.0</td>\n",
       "    </tr>\n",
       "    <tr>\n",
       "      <th>2</th>\n",
       "      <td>1</td>\n",
       "      <td>NaN</td>\n",
       "      <td>alfa-romero</td>\n",
       "      <td>gas</td>\n",
       "      <td>std</td>\n",
       "      <td>two</td>\n",
       "      <td>hatchback</td>\n",
       "      <td>rwd</td>\n",
       "      <td>front</td>\n",
       "      <td>94.5</td>\n",
       "      <td>...</td>\n",
       "      <td>152</td>\n",
       "      <td>mpfi</td>\n",
       "      <td>2.68</td>\n",
       "      <td>3.47</td>\n",
       "      <td>9.0</td>\n",
       "      <td>154.0</td>\n",
       "      <td>5000.0</td>\n",
       "      <td>19</td>\n",
       "      <td>26</td>\n",
       "      <td>16500.0</td>\n",
       "    </tr>\n",
       "    <tr>\n",
       "      <th>3</th>\n",
       "      <td>2</td>\n",
       "      <td>164.0</td>\n",
       "      <td>audi</td>\n",
       "      <td>gas</td>\n",
       "      <td>std</td>\n",
       "      <td>four</td>\n",
       "      <td>sedan</td>\n",
       "      <td>fwd</td>\n",
       "      <td>front</td>\n",
       "      <td>99.8</td>\n",
       "      <td>...</td>\n",
       "      <td>109</td>\n",
       "      <td>mpfi</td>\n",
       "      <td>3.19</td>\n",
       "      <td>3.40</td>\n",
       "      <td>10.0</td>\n",
       "      <td>102.0</td>\n",
       "      <td>5500.0</td>\n",
       "      <td>24</td>\n",
       "      <td>30</td>\n",
       "      <td>13950.0</td>\n",
       "    </tr>\n",
       "    <tr>\n",
       "      <th>4</th>\n",
       "      <td>2</td>\n",
       "      <td>164.0</td>\n",
       "      <td>audi</td>\n",
       "      <td>gas</td>\n",
       "      <td>std</td>\n",
       "      <td>four</td>\n",
       "      <td>sedan</td>\n",
       "      <td>4wd</td>\n",
       "      <td>front</td>\n",
       "      <td>99.4</td>\n",
       "      <td>...</td>\n",
       "      <td>136</td>\n",
       "      <td>mpfi</td>\n",
       "      <td>3.19</td>\n",
       "      <td>3.40</td>\n",
       "      <td>8.0</td>\n",
       "      <td>115.0</td>\n",
       "      <td>5500.0</td>\n",
       "      <td>18</td>\n",
       "      <td>22</td>\n",
       "      <td>17450.0</td>\n",
       "    </tr>\n",
       "  </tbody>\n",
       "</table>\n",
       "<p>5 rows × 26 columns</p>\n",
       "</div>"
      ],
      "text/plain": [
       "   symboling  normalized_losses         make fuel_type aspiration  \\\n",
       "0          3                NaN  alfa-romero       gas        std   \n",
       "1          3                NaN  alfa-romero       gas        std   \n",
       "2          1                NaN  alfa-romero       gas        std   \n",
       "3          2              164.0         audi       gas        std   \n",
       "4          2              164.0         audi       gas        std   \n",
       "\n",
       "  num_of_doors   body_style drive_wheels engine_location  wheel_base  ...  \\\n",
       "0          two  convertible          rwd           front        88.6  ...   \n",
       "1          two  convertible          rwd           front        88.6  ...   \n",
       "2          two    hatchback          rwd           front        94.5  ...   \n",
       "3         four        sedan          fwd           front        99.8  ...   \n",
       "4         four        sedan          4wd           front        99.4  ...   \n",
       "\n",
       "   engine_size  fuel_system  bore  stroke compression_ratio horsepower  \\\n",
       "0          130         mpfi  3.47    2.68               9.0      111.0   \n",
       "1          130         mpfi  3.47    2.68               9.0      111.0   \n",
       "2          152         mpfi  2.68    3.47               9.0      154.0   \n",
       "3          109         mpfi  3.19    3.40              10.0      102.0   \n",
       "4          136         mpfi  3.19    3.40               8.0      115.0   \n",
       "\n",
       "   peak_rpm city_mpg  highway_mpg    price  \n",
       "0    5000.0       21           27  13495.0  \n",
       "1    5000.0       21           27  16500.0  \n",
       "2    5000.0       19           26  16500.0  \n",
       "3    5500.0       24           30  13950.0  \n",
       "4    5500.0       18           22  17450.0  \n",
       "\n",
       "[5 rows x 26 columns]"
      ]
     },
     "execution_count": 208,
     "metadata": {},
     "output_type": "execute_result"
    }
   ],
   "source": [
    "data=pd.read_csv(\"C:/Users/Dell/Downloads/imports-85.data\",header=None,na_values='?')\n",
    "data.columns=[\"symboling\",\"normalized_losses\",\"make\",\"fuel_type\",\"aspiration\",\"num_of_doors\",\"body_style\",\"drive_wheels\",\"engine_location\",\"wheel_base\",\"length\",\"width\",\"height\",\"curb_weight\",\"engine_type\",\"num_of_cylinders\",\"engine_size\",\"fuel_system\",\"bore\",\"stroke\",\"compression_ratio\",\"horsepower\",\"peak_rpm\",\"city_mpg\",\"highway_mpg\",\"price\"]\n",
    "data.head()"
   ]
  },
  {
   "cell_type": "code",
   "execution_count": 18,
   "id": "55ccca3d",
   "metadata": {},
   "outputs": [
    {
     "data": {
      "text/plain": [
       "symboling             0\n",
       "normalized_losses    41\n",
       "make                  0\n",
       "fuel-type             0\n",
       "aspiration            0\n",
       "num_of_doors          2\n",
       "body-style            0\n",
       "drive-wheels          0\n",
       "engine-location       0\n",
       "wheel-base            0\n",
       "length                0\n",
       "width                 0\n",
       "height                0\n",
       "curb-weight           0\n",
       "engine-type           0\n",
       "num-of-cylinders      0\n",
       "engine-size           0\n",
       "fuel-system           0\n",
       "bore                  4\n",
       "stroke                4\n",
       "compression-ratio     0\n",
       "horsepower            2\n",
       "peak_rpm              2\n",
       "city-mpg              0\n",
       "highway-mpg           0\n",
       "price                 4\n",
       "dtype: int64"
      ]
     },
     "execution_count": 18,
     "metadata": {},
     "output_type": "execute_result"
    }
   ],
   "source": [
    "data.isnull().sum()"
   ]
  },
  {
   "cell_type": "code",
   "execution_count": 19,
   "id": "da9781b4",
   "metadata": {},
   "outputs": [
    {
     "data": {
      "text/html": [
       "<div>\n",
       "<style scoped>\n",
       "    .dataframe tbody tr th:only-of-type {\n",
       "        vertical-align: middle;\n",
       "    }\n",
       "\n",
       "    .dataframe tbody tr th {\n",
       "        vertical-align: top;\n",
       "    }\n",
       "\n",
       "    .dataframe thead th {\n",
       "        text-align: right;\n",
       "    }\n",
       "</style>\n",
       "<table border=\"1\" class=\"dataframe\">\n",
       "  <thead>\n",
       "    <tr style=\"text-align: right;\">\n",
       "      <th></th>\n",
       "      <th>symboling</th>\n",
       "      <th>normalized_losses</th>\n",
       "      <th>wheel-base</th>\n",
       "      <th>length</th>\n",
       "      <th>width</th>\n",
       "      <th>height</th>\n",
       "      <th>curb-weight</th>\n",
       "      <th>engine-size</th>\n",
       "      <th>bore</th>\n",
       "      <th>stroke</th>\n",
       "      <th>compression-ratio</th>\n",
       "      <th>horsepower</th>\n",
       "      <th>peak_rpm</th>\n",
       "      <th>city-mpg</th>\n",
       "      <th>highway-mpg</th>\n",
       "      <th>price</th>\n",
       "    </tr>\n",
       "  </thead>\n",
       "  <tbody>\n",
       "    <tr>\n",
       "      <th>count</th>\n",
       "      <td>205.000000</td>\n",
       "      <td>164.000000</td>\n",
       "      <td>205.000000</td>\n",
       "      <td>205.000000</td>\n",
       "      <td>205.000000</td>\n",
       "      <td>205.000000</td>\n",
       "      <td>205.000000</td>\n",
       "      <td>205.000000</td>\n",
       "      <td>201.000000</td>\n",
       "      <td>201.000000</td>\n",
       "      <td>205.000000</td>\n",
       "      <td>203.000000</td>\n",
       "      <td>203.000000</td>\n",
       "      <td>205.000000</td>\n",
       "      <td>205.000000</td>\n",
       "      <td>201.000000</td>\n",
       "    </tr>\n",
       "    <tr>\n",
       "      <th>mean</th>\n",
       "      <td>0.834146</td>\n",
       "      <td>122.000000</td>\n",
       "      <td>98.756585</td>\n",
       "      <td>174.049268</td>\n",
       "      <td>65.907805</td>\n",
       "      <td>53.724878</td>\n",
       "      <td>2555.565854</td>\n",
       "      <td>126.907317</td>\n",
       "      <td>3.329751</td>\n",
       "      <td>3.255423</td>\n",
       "      <td>10.142537</td>\n",
       "      <td>104.256158</td>\n",
       "      <td>5125.369458</td>\n",
       "      <td>25.219512</td>\n",
       "      <td>30.751220</td>\n",
       "      <td>13207.129353</td>\n",
       "    </tr>\n",
       "    <tr>\n",
       "      <th>std</th>\n",
       "      <td>1.245307</td>\n",
       "      <td>35.442168</td>\n",
       "      <td>6.021776</td>\n",
       "      <td>12.337289</td>\n",
       "      <td>2.145204</td>\n",
       "      <td>2.443522</td>\n",
       "      <td>520.680204</td>\n",
       "      <td>41.642693</td>\n",
       "      <td>0.273539</td>\n",
       "      <td>0.316717</td>\n",
       "      <td>3.972040</td>\n",
       "      <td>39.714369</td>\n",
       "      <td>479.334560</td>\n",
       "      <td>6.542142</td>\n",
       "      <td>6.886443</td>\n",
       "      <td>7947.066342</td>\n",
       "    </tr>\n",
       "    <tr>\n",
       "      <th>min</th>\n",
       "      <td>-2.000000</td>\n",
       "      <td>65.000000</td>\n",
       "      <td>86.600000</td>\n",
       "      <td>141.100000</td>\n",
       "      <td>60.300000</td>\n",
       "      <td>47.800000</td>\n",
       "      <td>1488.000000</td>\n",
       "      <td>61.000000</td>\n",
       "      <td>2.540000</td>\n",
       "      <td>2.070000</td>\n",
       "      <td>7.000000</td>\n",
       "      <td>48.000000</td>\n",
       "      <td>4150.000000</td>\n",
       "      <td>13.000000</td>\n",
       "      <td>16.000000</td>\n",
       "      <td>5118.000000</td>\n",
       "    </tr>\n",
       "    <tr>\n",
       "      <th>25%</th>\n",
       "      <td>0.000000</td>\n",
       "      <td>94.000000</td>\n",
       "      <td>94.500000</td>\n",
       "      <td>166.300000</td>\n",
       "      <td>64.100000</td>\n",
       "      <td>52.000000</td>\n",
       "      <td>2145.000000</td>\n",
       "      <td>97.000000</td>\n",
       "      <td>3.150000</td>\n",
       "      <td>3.110000</td>\n",
       "      <td>8.600000</td>\n",
       "      <td>70.000000</td>\n",
       "      <td>4800.000000</td>\n",
       "      <td>19.000000</td>\n",
       "      <td>25.000000</td>\n",
       "      <td>7775.000000</td>\n",
       "    </tr>\n",
       "    <tr>\n",
       "      <th>50%</th>\n",
       "      <td>1.000000</td>\n",
       "      <td>115.000000</td>\n",
       "      <td>97.000000</td>\n",
       "      <td>173.200000</td>\n",
       "      <td>65.500000</td>\n",
       "      <td>54.100000</td>\n",
       "      <td>2414.000000</td>\n",
       "      <td>120.000000</td>\n",
       "      <td>3.310000</td>\n",
       "      <td>3.290000</td>\n",
       "      <td>9.000000</td>\n",
       "      <td>95.000000</td>\n",
       "      <td>5200.000000</td>\n",
       "      <td>24.000000</td>\n",
       "      <td>30.000000</td>\n",
       "      <td>10295.000000</td>\n",
       "    </tr>\n",
       "    <tr>\n",
       "      <th>75%</th>\n",
       "      <td>2.000000</td>\n",
       "      <td>150.000000</td>\n",
       "      <td>102.400000</td>\n",
       "      <td>183.100000</td>\n",
       "      <td>66.900000</td>\n",
       "      <td>55.500000</td>\n",
       "      <td>2935.000000</td>\n",
       "      <td>141.000000</td>\n",
       "      <td>3.590000</td>\n",
       "      <td>3.410000</td>\n",
       "      <td>9.400000</td>\n",
       "      <td>116.000000</td>\n",
       "      <td>5500.000000</td>\n",
       "      <td>30.000000</td>\n",
       "      <td>34.000000</td>\n",
       "      <td>16500.000000</td>\n",
       "    </tr>\n",
       "    <tr>\n",
       "      <th>max</th>\n",
       "      <td>3.000000</td>\n",
       "      <td>256.000000</td>\n",
       "      <td>120.900000</td>\n",
       "      <td>208.100000</td>\n",
       "      <td>72.300000</td>\n",
       "      <td>59.800000</td>\n",
       "      <td>4066.000000</td>\n",
       "      <td>326.000000</td>\n",
       "      <td>3.940000</td>\n",
       "      <td>4.170000</td>\n",
       "      <td>23.000000</td>\n",
       "      <td>288.000000</td>\n",
       "      <td>6600.000000</td>\n",
       "      <td>49.000000</td>\n",
       "      <td>54.000000</td>\n",
       "      <td>45400.000000</td>\n",
       "    </tr>\n",
       "  </tbody>\n",
       "</table>\n",
       "</div>"
      ],
      "text/plain": [
       "        symboling  normalized_losses  wheel-base      length       width  \\\n",
       "count  205.000000         164.000000  205.000000  205.000000  205.000000   \n",
       "mean     0.834146         122.000000   98.756585  174.049268   65.907805   \n",
       "std      1.245307          35.442168    6.021776   12.337289    2.145204   \n",
       "min     -2.000000          65.000000   86.600000  141.100000   60.300000   \n",
       "25%      0.000000          94.000000   94.500000  166.300000   64.100000   \n",
       "50%      1.000000         115.000000   97.000000  173.200000   65.500000   \n",
       "75%      2.000000         150.000000  102.400000  183.100000   66.900000   \n",
       "max      3.000000         256.000000  120.900000  208.100000   72.300000   \n",
       "\n",
       "           height  curb-weight  engine-size        bore      stroke  \\\n",
       "count  205.000000   205.000000   205.000000  201.000000  201.000000   \n",
       "mean    53.724878  2555.565854   126.907317    3.329751    3.255423   \n",
       "std      2.443522   520.680204    41.642693    0.273539    0.316717   \n",
       "min     47.800000  1488.000000    61.000000    2.540000    2.070000   \n",
       "25%     52.000000  2145.000000    97.000000    3.150000    3.110000   \n",
       "50%     54.100000  2414.000000   120.000000    3.310000    3.290000   \n",
       "75%     55.500000  2935.000000   141.000000    3.590000    3.410000   \n",
       "max     59.800000  4066.000000   326.000000    3.940000    4.170000   \n",
       "\n",
       "       compression-ratio  horsepower     peak_rpm    city-mpg  highway-mpg  \\\n",
       "count         205.000000  203.000000   203.000000  205.000000   205.000000   \n",
       "mean           10.142537  104.256158  5125.369458   25.219512    30.751220   \n",
       "std             3.972040   39.714369   479.334560    6.542142     6.886443   \n",
       "min             7.000000   48.000000  4150.000000   13.000000    16.000000   \n",
       "25%             8.600000   70.000000  4800.000000   19.000000    25.000000   \n",
       "50%             9.000000   95.000000  5200.000000   24.000000    30.000000   \n",
       "75%             9.400000  116.000000  5500.000000   30.000000    34.000000   \n",
       "max            23.000000  288.000000  6600.000000   49.000000    54.000000   \n",
       "\n",
       "              price  \n",
       "count    201.000000  \n",
       "mean   13207.129353  \n",
       "std     7947.066342  \n",
       "min     5118.000000  \n",
       "25%     7775.000000  \n",
       "50%    10295.000000  \n",
       "75%    16500.000000  \n",
       "max    45400.000000  "
      ]
     },
     "execution_count": 19,
     "metadata": {},
     "output_type": "execute_result"
    }
   ],
   "source": [
    "data.describe()"
   ]
  },
  {
   "cell_type": "code",
   "execution_count": 237,
   "id": "4e96f0ad",
   "metadata": {},
   "outputs": [
    {
     "data": {
      "text/plain": [
       "{'whiskers': [<matplotlib.lines.Line2D at 0x2205c5e16d0>,\n",
       "  <matplotlib.lines.Line2D at 0x2205c5e1f70>],\n",
       " 'caps': [<matplotlib.lines.Line2D at 0x2205c5e1130>,\n",
       "  <matplotlib.lines.Line2D at 0x2205c5e15b0>],\n",
       " 'boxes': [<matplotlib.lines.Line2D at 0x2205c5e3ca0>],\n",
       " 'medians': [<matplotlib.lines.Line2D at 0x2205c5db2b0>],\n",
       " 'fliers': [<matplotlib.lines.Line2D at 0x2205c5db340>],\n",
       " 'means': []}"
      ]
     },
     "execution_count": 237,
     "metadata": {},
     "output_type": "execute_result"
    },
    {
     "data": {
      "image/png": "[encoded data removed]",
      "text/plain": [
       "<Figure size 432x288 with 1 Axes>"
      ]
     },
     "metadata": {
      "needs_background": "light"
     },
     "output_type": "display_data"
    }
   ],
   "source": [
    "plt.boxplot(data.normalized_losses)\n"
   ]
  },
  {
   "cell_type": "code",
   "execution_count": 238,
   "id": "f8bb43c5",
   "metadata": {},
   "outputs": [],
   "source": [
    "#here outlier is present so replace with median\n",
    "data.normalized_losses.fillna(data.normalized_losses.median(),inplace=True)\n"
   ]
  },
  {
   "cell_type": "code",
   "execution_count": 239,
   "id": "88847427",
   "metadata": {},
   "outputs": [
    {
     "data": {
      "text/plain": [
       "0"
      ]
     },
     "execution_count": 239,
     "metadata": {},
     "output_type": "execute_result"
    }
   ],
   "source": [
    "data.normalized_losses.isnull().sum()"
   ]
  },
  {
   "cell_type": "code",
   "execution_count": 25,
   "id": "c8a0b837",
   "metadata": {},
   "outputs": [
    {
     "data": {
      "text/plain": [
       "2"
      ]
     },
     "execution_count": 25,
     "metadata": {},
     "output_type": "execute_result"
    }
   ],
   "source": [
    "data.num_of_doors.isnull().sum()"
   ]
  },
  {
   "cell_type": "code",
   "execution_count": 26,
   "id": "37b9c846",
   "metadata": {},
   "outputs": [],
   "source": [
    "data.num_of_doors.fillna('four',inplace=True)\n"
   ]
  },
  {
   "cell_type": "code",
   "execution_count": 27,
   "id": "ca30be58",
   "metadata": {},
   "outputs": [
    {
     "data": {
      "text/plain": [
       "0"
      ]
     },
     "execution_count": 27,
     "metadata": {},
     "output_type": "execute_result"
    }
   ],
   "source": [
    "data.num_of_doors.isnull().sum()"
   ]
  },
  {
   "cell_type": "code",
   "execution_count": 28,
   "id": "5b383b39",
   "metadata": {},
   "outputs": [
    {
     "data": {
      "text/plain": [
       "4"
      ]
     },
     "execution_count": 28,
     "metadata": {},
     "output_type": "execute_result"
    }
   ],
   "source": [
    "data.bore.isnull().sum()"
   ]
  },
  {
   "cell_type": "code",
   "execution_count": 29,
   "id": "e5f1befc",
   "metadata": {},
   "outputs": [
    {
     "data": {
      "text/plain": [
       "{'whiskers': [<matplotlib.lines.Line2D at 0x22054ad31f0>,\n",
       "  <matplotlib.lines.Line2D at 0x22054ad3580>],\n",
       " 'caps': [<matplotlib.lines.Line2D at 0x22054ad3910>,\n",
       "  <matplotlib.lines.Line2D at 0x22054ad3ca0>],\n",
       " 'boxes': [<matplotlib.lines.Line2D at 0x22054ac4e20>],\n",
       " 'medians': [<matplotlib.lines.Line2D at 0x22054adc0a0>],\n",
       " 'fliers': [<matplotlib.lines.Line2D at 0x22054adc430>],\n",
       " 'means': []}"
      ]
     },
     "execution_count": 29,
     "metadata": {},
     "output_type": "execute_result"
    },
    {
     "data": {
      "image/png": "[encoded data removed]",
      "text/plain": [
       "<Figure size 432x288 with 1 Axes>"
      ]
     },
     "metadata": {
      "needs_background": "light"
     },
     "output_type": "display_data"
    }
   ],
   "source": [
    "plt.boxplot(data.bore)\n"
   ]
  },
  {
   "cell_type": "code",
   "execution_count": 55,
   "id": "7d02c5d4",
   "metadata": {
    "scrolled": true
   },
   "outputs": [
    {
     "data": {
      "text/plain": [
       "(array([ 1.,  1.,  8., 37., 40., 28., 27., 42., 17.,  4.]),\n",
       " array([2.54, 2.68, 2.82, 2.96, 3.1 , 3.24, 3.38, 3.52, 3.66, 3.8 , 3.94]),\n",
       " <BarContainer object of 10 artists>)"
      ]
     },
     "execution_count": 55,
     "metadata": {},
     "output_type": "execute_result"
    },
    {
     "data": {
      "image/png": "[encoded data removed]",
      "text/plain": [
       "<Figure size 432x288 with 1 Axes>"
      ]
     },
     "metadata": {
      "needs_background": "light"
     },
     "output_type": "display_data"
    }
   ],
   "source": [
    "plt.hist(data.bore)"
   ]
  },
  {
   "cell_type": "code",
   "execution_count": 30,
   "id": "776c279a",
   "metadata": {},
   "outputs": [],
   "source": [
    "#here no outlier so replace with mean\n",
    "data.bore.fillna(data.bore.mean(),inplace=True)\n"
   ]
  },
  {
   "cell_type": "code",
   "execution_count": 31,
   "id": "cd0a475f",
   "metadata": {},
   "outputs": [
    {
     "data": {
      "text/plain": [
       "0"
      ]
     },
     "execution_count": 31,
     "metadata": {},
     "output_type": "execute_result"
    }
   ],
   "source": [
    "data.bore.isnull().sum()"
   ]
  },
  {
   "cell_type": "code",
   "execution_count": 32,
   "id": "5aaa45d8",
   "metadata": {},
   "outputs": [
    {
     "data": {
      "text/plain": [
       "4"
      ]
     },
     "execution_count": 32,
     "metadata": {},
     "output_type": "execute_result"
    }
   ],
   "source": [
    "data.stroke.isnull().sum()"
   ]
  },
  {
   "cell_type": "code",
   "execution_count": 34,
   "id": "e4c7e692",
   "metadata": {},
   "outputs": [
    {
     "data": {
      "text/plain": [
       "(array([ 3.,  1., 13.,  7., 30., 52., 71., 15.,  7.,  2.]),\n",
       " array([2.07, 2.28, 2.49, 2.7 , 2.91, 3.12, 3.33, 3.54, 3.75, 3.96, 4.17]),\n",
       " <BarContainer object of 10 artists>)"
      ]
     },
     "execution_count": 34,
     "metadata": {},
     "output_type": "execute_result"
    },
    {
     "data": {
      "image/png": "[encoded data removed]",
      "text/plain": [
       "<Figure size 432x288 with 1 Axes>"
      ]
     },
     "metadata": {
      "needs_background": "light"
     },
     "output_type": "display_data"
    }
   ],
   "source": [
    "plt.hist(data.stroke)"
   ]
  },
  {
   "cell_type": "code",
   "execution_count": 35,
   "id": "03ed8ace",
   "metadata": {},
   "outputs": [],
   "source": [
    "data.stroke.fillna(data.stroke.mean(),inplace=True)"
   ]
  },
  {
   "cell_type": "code",
   "execution_count": 36,
   "id": "4631a33f",
   "metadata": {},
   "outputs": [
    {
     "data": {
      "text/plain": [
       "0"
      ]
     },
     "execution_count": 36,
     "metadata": {},
     "output_type": "execute_result"
    }
   ],
   "source": [
    "data.stroke.isnull().sum()"
   ]
  },
  {
   "cell_type": "code",
   "execution_count": 37,
   "id": "98213c3a",
   "metadata": {},
   "outputs": [
    {
     "data": {
      "text/plain": [
       "2"
      ]
     },
     "execution_count": 37,
     "metadata": {},
     "output_type": "execute_result"
    }
   ],
   "source": [
    "data.horsepower.isnull().sum()"
   ]
  },
  {
   "cell_type": "code",
   "execution_count": 41,
   "id": "7c3842fd",
   "metadata": {},
   "outputs": [
    {
     "data": {
      "text/plain": [
       "{'whiskers': [<matplotlib.lines.Line2D at 0x22054c1b040>,\n",
       "  <matplotlib.lines.Line2D at 0x22054c1b3d0>],\n",
       " 'caps': [<matplotlib.lines.Line2D at 0x22054c1b760>,\n",
       "  <matplotlib.lines.Line2D at 0x22054c1baf0>],\n",
       " 'boxes': [<matplotlib.lines.Line2D at 0x22054c0ac40>],\n",
       " 'medians': [<matplotlib.lines.Line2D at 0x22054c1be80>],\n",
       " 'fliers': [<matplotlib.lines.Line2D at 0x22054c25250>],\n",
       " 'means': []}"
      ]
     },
     "execution_count": 41,
     "metadata": {},
     "output_type": "execute_result"
    },
    {
     "data": {
      "image/png": "[encoded data removed]",
      "text/plain": [
       "<Figure size 432x288 with 1 Axes>"
      ]
     },
     "metadata": {
      "needs_background": "light"
     },
     "output_type": "display_data"
    }
   ],
   "source": [
    "plt.boxplot(data.horsepower)"
   ]
  },
  {
   "cell_type": "code",
   "execution_count": 42,
   "id": "30e2ff03",
   "metadata": {},
   "outputs": [],
   "source": [
    "data.horsepower.fillna(data.horsepower.median(),inplace=True)"
   ]
  },
  {
   "cell_type": "code",
   "execution_count": 43,
   "id": "df6315e0",
   "metadata": {},
   "outputs": [
    {
     "data": {
      "text/plain": [
       "0"
      ]
     },
     "execution_count": 43,
     "metadata": {},
     "output_type": "execute_result"
    }
   ],
   "source": [
    "data.horsepower.isnull().sum()"
   ]
  },
  {
   "cell_type": "code",
   "execution_count": 44,
   "id": "839d67aa",
   "metadata": {},
   "outputs": [
    {
     "data": {
      "text/plain": [
       "2"
      ]
     },
     "execution_count": 44,
     "metadata": {},
     "output_type": "execute_result"
    }
   ],
   "source": [
    "data.peak_rpm.isnull().sum()            \n"
   ]
  },
  {
   "cell_type": "code",
   "execution_count": 46,
   "id": "aa456347",
   "metadata": {},
   "outputs": [
    {
     "data": {
      "text/plain": [
       "(array([17., 10., 41., 31., 31., 51.,  8., 12.,  0.,  2.]),\n",
       " array([4150., 4395., 4640., 4885., 5130., 5375., 5620., 5865., 6110.,\n",
       "        6355., 6600.]),\n",
       " <BarContainer object of 10 artists>)"
      ]
     },
     "execution_count": 46,
     "metadata": {},
     "output_type": "execute_result"
    },
    {
     "data": {
      "image/png": "[encoded data removed]",
      "text/plain": [
       "<Figure size 432x288 with 1 Axes>"
      ]
     },
     "metadata": {
      "needs_background": "light"
     },
     "output_type": "display_data"
    }
   ],
   "source": [
    "plt.hist(data.peak_rpm)"
   ]
  },
  {
   "cell_type": "code",
   "execution_count": 48,
   "id": "2d0888f9",
   "metadata": {},
   "outputs": [],
   "source": [
    "data.peak_rpm.fillna(data.peak_rpm.mean(),inplace=True)"
   ]
  },
  {
   "cell_type": "code",
   "execution_count": 49,
   "id": "c09668cb",
   "metadata": {},
   "outputs": [
    {
     "data": {
      "text/plain": [
       "0"
      ]
     },
     "execution_count": 49,
     "metadata": {},
     "output_type": "execute_result"
    }
   ],
   "source": [
    "data.peak_rpm.isnull().sum()            \n"
   ]
  },
  {
   "cell_type": "code",
   "execution_count": 50,
   "id": "c876ab01",
   "metadata": {},
   "outputs": [
    {
     "data": {
      "text/plain": [
       "4"
      ]
     },
     "execution_count": 50,
     "metadata": {},
     "output_type": "execute_result"
    }
   ],
   "source": [
    "data.price.isnull().sum()               "
   ]
  },
  {
   "cell_type": "code",
   "execution_count": 52,
   "id": "8778c458",
   "metadata": {},
   "outputs": [
    {
     "data": {
      "text/plain": [
       "(array([81., 45., 35., 17.,  6.,  3.,  4.,  7.,  2.,  1.]),\n",
       " array([ 5118. ,  9146.2, 13174.4, 17202.6, 21230.8, 25259. , 29287.2,\n",
       "        33315.4, 37343.6, 41371.8, 45400. ]),\n",
       " <BarContainer object of 10 artists>)"
      ]
     },
     "execution_count": 52,
     "metadata": {},
     "output_type": "execute_result"
    },
    {
     "data": {
      "image/png": "[encoded data removed]",
      "text/plain": [
       "<Figure size 432x288 with 1 Axes>"
      ]
     },
     "metadata": {
      "needs_background": "light"
     },
     "output_type": "display_data"
    }
   ],
   "source": [
    "plt.hist(data.price)"
   ]
  },
  {
   "cell_type": "code",
   "execution_count": 53,
   "id": "353fc8b9",
   "metadata": {},
   "outputs": [],
   "source": [
    "data.price.fillna(data.price.mean(),inplace=True)"
   ]
  },
  {
   "cell_type": "code",
   "execution_count": 54,
   "id": "2b792b2d",
   "metadata": {},
   "outputs": [
    {
     "data": {
      "text/plain": [
       "0"
      ]
     },
     "execution_count": 54,
     "metadata": {},
     "output_type": "execute_result"
    }
   ],
   "source": [
    "data.price.isnull().sum()               "
   ]
  },
  {
   "cell_type": "markdown",
   "id": "3ef3f69e",
   "metadata": {},
   "source": [
    "<h1>CONTINEOUS DATA\n",
    "    <h4>\n",
    "  \n",
    "  2.\"normalized_losses\"\n",
    "  3.\"wheel-base\"\n",
    "  4. \"length\"\n",
    "  5. \"width\"\n",
    "  6.\"height\"\n",
    "  7.\"curb-weight\"\n",
    "  8.\"engine-size\"\n",
    "  9.\"bore\"\n",
    "  10.\"stroke\"\n",
    "  11.\"compression-ratio\"\n",
    "  12.\"horsepower\"\n",
    "  13.\"peak_rpm\"\n",
    "  14.\"city-mpg\"\n",
    "  15.\"highway-mpg\"\n",
    "  16.\"price\"\n",
    "\n",
    "\n",
    "\n"
   ]
  },
  {
   "cell_type": "code",
   "execution_count": 58,
   "id": "028dc4f2",
   "metadata": {},
   "outputs": [
    {
     "data": {
      "text/plain": [
       "count    205.000000\n",
       "mean     120.600000\n",
       "std       31.805105\n",
       "min       65.000000\n",
       "25%      101.000000\n",
       "50%      115.000000\n",
       "75%      137.000000\n",
       "max      256.000000\n",
       "Name: normalized_losses, dtype: float64"
      ]
     },
     "execution_count": 58,
     "metadata": {},
     "output_type": "execute_result"
    }
   ],
   "source": [
    "data.normalized_losses.describe()\n"
   ]
  },
  {
   "cell_type": "code",
   "execution_count": 59,
   "id": "b3c9d74e",
   "metadata": {},
   "outputs": [
    {
     "data": {
      "text/plain": [
       "array([115., 164., 158., 192., 188., 121.,  98.,  81., 118., 148., 110.,\n",
       "       145., 137., 101.,  78., 106.,  85., 107., 104., 113., 150., 129.,\n",
       "        93., 142., 161., 153., 125., 128., 122., 103., 168., 108., 194.,\n",
       "       231., 119., 154.,  74., 186.,  83., 102.,  89.,  87.,  77.,  91.,\n",
       "       134.,  65., 197.,  90.,  94., 256.,  95.])"
      ]
     },
     "execution_count": 59,
     "metadata": {},
     "output_type": "execute_result"
    }
   ],
   "source": [
    "data.normalized_losses.unique()"
   ]
  },
  {
   "cell_type": "code",
   "execution_count": 61,
   "id": "dced67f7",
   "metadata": {},
   "outputs": [
    {
     "data": {
      "text/plain": [
       "{'whiskers': [<matplotlib.lines.Line2D at 0x220560799d0>,\n",
       "  <matplotlib.lines.Line2D at 0x22056079d60>],\n",
       " 'caps': [<matplotlib.lines.Line2D at 0x22056086160>,\n",
       "  <matplotlib.lines.Line2D at 0x220560864f0>],\n",
       " 'boxes': [<matplotlib.lines.Line2D at 0x220560796a0>],\n",
       " 'medians': [<matplotlib.lines.Line2D at 0x22056086880>],\n",
       " 'fliers': [<matplotlib.lines.Line2D at 0x22056086c10>],\n",
       " 'means': []}"
      ]
     },
     "execution_count": 61,
     "metadata": {},
     "output_type": "execute_result"
    },
    {
     "data": {
      "image/png": "[encoded data removed]",
      "text/plain": [
       "<Figure size 432x288 with 1 Axes>"
      ]
     },
     "metadata": {
      "needs_background": "light"
     },
     "output_type": "display_data"
    }
   ],
   "source": [
    "plt.boxplot(data.normalized_losses)"
   ]
  },
  {
   "cell_type": "code",
   "execution_count": 62,
   "id": "0e0790ee",
   "metadata": {},
   "outputs": [
    {
     "data": {
      "text/plain": [
       "(array([17., 46., 72., 20., 21., 18.,  9.,  0.,  1.,  1.]),\n",
       " array([ 65. ,  84.1, 103.2, 122.3, 141.4, 160.5, 179.6, 198.7, 217.8,\n",
       "        236.9, 256. ]),\n",
       " <BarContainer object of 10 artists>)"
      ]
     },
     "execution_count": 62,
     "metadata": {},
     "output_type": "execute_result"
    },
    {
     "data": {
      "image/png": "[encoded data removed]",
      "text/plain": [
       "<Figure size 432x288 with 1 Axes>"
      ]
     },
     "metadata": {
      "needs_background": "light"
     },
     "output_type": "display_data"
    }
   ],
   "source": [
    "plt.hist(data.normalized_losses)"
   ]
  },
  {
   "cell_type": "code",
   "execution_count": null,
   "id": "1b428deb",
   "metadata": {},
   "outputs": [],
   "source": [
    "plt.boxplot(data.normalized_losses)\n"
   ]
  },
  {
   "cell_type": "code",
   "execution_count": 63,
   "id": "80bce7c1",
   "metadata": {},
   "outputs": [
    {
     "data": {
      "text/plain": [
       "ShapiroResult(statistic=0.9371652007102966, pvalue=9.691518698673462e-08)"
      ]
     },
     "execution_count": 63,
     "metadata": {},
     "output_type": "execute_result"
    }
   ],
   "source": [
    "stats.shapiro(data.normalized_losses)"
   ]
  },
  {
   "cell_type": "code",
   "execution_count": 66,
   "id": "54804b89",
   "metadata": {},
   "outputs": [
    {
     "data": {
      "text/plain": [
       "count    205.000000\n",
       "mean      98.756585\n",
       "std        6.021776\n",
       "min       86.600000\n",
       "25%       94.500000\n",
       "50%       97.000000\n",
       "75%      102.400000\n",
       "max      120.900000\n",
       "Name: wheel_base, dtype: float64"
      ]
     },
     "execution_count": 66,
     "metadata": {},
     "output_type": "execute_result"
    }
   ],
   "source": [
    "data.wheel_base.describe()"
   ]
  },
  {
   "cell_type": "code",
   "execution_count": 67,
   "id": "7505aaa7",
   "metadata": {},
   "outputs": [
    {
     "data": {
      "text/plain": [
       "array([ 88.6,  94.5,  99.8,  99.4, 105.8,  99.5, 101.2, 103.5, 110. ,\n",
       "        88.4,  93.7, 103.3,  95.9,  86.6,  96.5,  94.3,  96. , 113. ,\n",
       "       102. ,  93.1,  95.3,  98.8, 104.9, 106.7, 115.6,  96.6, 120.9,\n",
       "       112. , 102.7,  93. ,  96.3,  95.1,  97.2, 100.4,  91.3,  99.2,\n",
       "       107.9, 114.2, 108. ,  89.5,  98.4,  96.1,  99.1,  93.3,  97. ,\n",
       "        96.9,  95.7, 102.4, 102.9, 104.5,  97.3, 104.3, 109.1])"
      ]
     },
     "execution_count": 67,
     "metadata": {},
     "output_type": "execute_result"
    }
   ],
   "source": [
    "data.wheel_base.unique()"
   ]
  },
  {
   "cell_type": "code",
   "execution_count": 68,
   "id": "fec11e2d",
   "metadata": {},
   "outputs": [
    {
     "data": {
      "text/plain": [
       "{'whiskers': [<matplotlib.lines.Line2D at 0x22056167f70>,\n",
       "  <matplotlib.lines.Line2D at 0x22056176340>],\n",
       " 'caps': [<matplotlib.lines.Line2D at 0x220561766d0>,\n",
       "  <matplotlib.lines.Line2D at 0x22056176a60>],\n",
       " 'boxes': [<matplotlib.lines.Line2D at 0x22056167be0>],\n",
       " 'medians': [<matplotlib.lines.Line2D at 0x22056176df0>],\n",
       " 'fliers': [<matplotlib.lines.Line2D at 0x220561811c0>],\n",
       " 'means': []}"
      ]
     },
     "execution_count": 68,
     "metadata": {},
     "output_type": "execute_result"
    },
    {
     "data": {
      "image/png": "[encoded data removed]",
      "text/plain": [
       "<Figure size 432x288 with 1 Axes>"
      ]
     },
     "metadata": {
      "needs_background": "light"
     },
     "output_type": "display_data"
    }
   ],
   "source": [
    "plt.boxplot(data.wheel_base)"
   ]
  },
  {
   "cell_type": "code",
   "execution_count": 70,
   "id": "105e2a1a",
   "metadata": {},
   "outputs": [
    {
     "data": {
      "text/plain": [
       "(array([ 8.,  9., 83., 42., 24., 14., 15.,  3.,  6.,  1.]),\n",
       " array([ 86.6 ,  90.03,  93.46,  96.89, 100.32, 103.75, 107.18, 110.61,\n",
       "        114.04, 117.47, 120.9 ]),\n",
       " <BarContainer object of 10 artists>)"
      ]
     },
     "execution_count": 70,
     "metadata": {},
     "output_type": "execute_result"
    },
    {
     "data": {
      "image/png": "[encoded data removed]",
      "text/plain": [
       "<Figure size 432x288 with 1 Axes>"
      ]
     },
     "metadata": {
      "needs_background": "light"
     },
     "output_type": "display_data"
    }
   ],
   "source": [
    "plt.hist(data.wheel_base)"
   ]
  },
  {
   "cell_type": "code",
   "execution_count": 71,
   "id": "95232732",
   "metadata": {},
   "outputs": [
    {
     "data": {
      "text/plain": [
       "ShapiroResult(statistic=0.9820953607559204, pvalue=0.01036272943019867)"
      ]
     },
     "execution_count": 71,
     "metadata": {},
     "output_type": "execute_result"
    }
   ],
   "source": [
    "stats.shapiro(data.length)"
   ]
  },
  {
   "cell_type": "code",
   "execution_count": 72,
   "id": "abc20683",
   "metadata": {},
   "outputs": [
    {
     "data": {
      "text/plain": [
       "count    205.000000\n",
       "mean     174.049268\n",
       "std       12.337289\n",
       "min      141.100000\n",
       "25%      166.300000\n",
       "50%      173.200000\n",
       "75%      183.100000\n",
       "max      208.100000\n",
       "Name: length, dtype: float64"
      ]
     },
     "execution_count": 72,
     "metadata": {},
     "output_type": "execute_result"
    }
   ],
   "source": [
    "data.length.describe()"
   ]
  },
  {
   "cell_type": "code",
   "execution_count": 73,
   "id": "16937713",
   "metadata": {},
   "outputs": [
    {
     "data": {
      "text/plain": [
       "array([168.8, 171.2, 176.6, 177.3, 192.7, 178.2, 176.8, 189. , 193.8,\n",
       "       197. , 141.1, 155.9, 158.8, 157.3, 174.6, 173.2, 144.6, 150. ,\n",
       "       163.4, 157.1, 167.5, 175.4, 169.1, 170.7, 172.6, 199.6, 191.7,\n",
       "       159.1, 166.8, 169. , 177.8, 175. , 190.9, 187.5, 202.6, 180.3,\n",
       "       208.1, 199.2, 178.4, 173. , 172.4, 165.3, 170.2, 165.6, 162.4,\n",
       "       173.4, 181.7, 184.6, 178.5, 186.7, 198.9, 167.3, 168.9, 175.7,\n",
       "       181.5, 186.6, 156.9, 157.9, 172. , 173.5, 173.6, 158.7, 169.7,\n",
       "       166.3, 168.7, 176.2, 175.6, 183.5, 187.8, 171.7, 159.3, 165.7,\n",
       "       180.2, 183.1, 188.8])"
      ]
     },
     "execution_count": 73,
     "metadata": {},
     "output_type": "execute_result"
    }
   ],
   "source": [
    "data.length.unique()"
   ]
  },
  {
   "cell_type": "code",
   "execution_count": 74,
   "id": "f48db5b8",
   "metadata": {},
   "outputs": [
    {
     "data": {
      "text/plain": [
       "{'whiskers': [<matplotlib.lines.Line2D at 0x220562caa00>,\n",
       "  <matplotlib.lines.Line2D at 0x220562cad90>],\n",
       " 'caps': [<matplotlib.lines.Line2D at 0x220562db160>,\n",
       "  <matplotlib.lines.Line2D at 0x220562db4f0>],\n",
       " 'boxes': [<matplotlib.lines.Line2D at 0x220562ca670>],\n",
       " 'medians': [<matplotlib.lines.Line2D at 0x220562db880>],\n",
       " 'fliers': [<matplotlib.lines.Line2D at 0x220562dbc10>],\n",
       " 'means': []}"
      ]
     },
     "execution_count": 74,
     "metadata": {},
     "output_type": "execute_result"
    },
    {
     "data": {
      "image/png": "[encoded data removed]",
      "text/plain": [
       "<Figure size 432x288 with 1 Axes>"
      ]
     },
     "metadata": {
      "needs_background": "light"
     },
     "output_type": "display_data"
    }
   ],
   "source": [
    "plt.boxplot(data.length)"
   ]
  },
  {
   "cell_type": "code",
   "execution_count": 75,
   "id": "0415a030",
   "metadata": {},
   "outputs": [
    {
     "data": {
      "text/plain": [
       "(array([ 3.,  3., 29., 23., 54., 39., 23., 20.,  8.,  3.]),\n",
       " array([141.1, 147.8, 154.5, 161.2, 167.9, 174.6, 181.3, 188. , 194.7,\n",
       "        201.4, 208.1]),\n",
       " <BarContainer object of 10 artists>)"
      ]
     },
     "execution_count": 75,
     "metadata": {},
     "output_type": "execute_result"
    },
    {
     "data": {
      "image/png": "[encoded data removed]",
      "text/plain": [
       "<Figure size 432x288 with 1 Axes>"
      ]
     },
     "metadata": {
      "needs_background": "light"
     },
     "output_type": "display_data"
    }
   ],
   "source": [
    "plt.hist(data.length)"
   ]
  },
  {
   "cell_type": "code",
   "execution_count": 76,
   "id": "bbcb26f5",
   "metadata": {},
   "outputs": [
    {
     "data": {
      "text/plain": [
       "ShapiroResult(statistic=0.9820953607559204, pvalue=0.01036272943019867)"
      ]
     },
     "execution_count": 76,
     "metadata": {},
     "output_type": "execute_result"
    }
   ],
   "source": [
    "stats.shapiro(data.length)"
   ]
  },
  {
   "cell_type": "code",
   "execution_count": null,
   "id": "36193743",
   "metadata": {},
   "outputs": [],
   "source": [
    "data.width.describe()"
   ]
  },
  {
   "cell_type": "code",
   "execution_count": null,
   "id": "7ba630ad",
   "metadata": {},
   "outputs": [],
   "source": [
    "data.width.unique()"
   ]
  },
  {
   "cell_type": "code",
   "execution_count": 77,
   "id": "cf085829",
   "metadata": {},
   "outputs": [
    {
     "data": {
      "text/plain": [
       "{'whiskers': [<matplotlib.lines.Line2D at 0x220563b1d00>,\n",
       "  <matplotlib.lines.Line2D at 0x220563c10d0>],\n",
       " 'caps': [<matplotlib.lines.Line2D at 0x220563c1490>,\n",
       "  <matplotlib.lines.Line2D at 0x220563c1820>],\n",
       " 'boxes': [<matplotlib.lines.Line2D at 0x220563b1970>],\n",
       " 'medians': [<matplotlib.lines.Line2D at 0x220563c1bb0>],\n",
       " 'fliers': [<matplotlib.lines.Line2D at 0x220563c1f40>],\n",
       " 'means': []}"
      ]
     },
     "execution_count": 77,
     "metadata": {},
     "output_type": "execute_result"
    },
    {
     "data": {
      "image/png": "[encoded data removed]",
      "text/plain": [
       "<Figure size 432x288 with 1 Axes>"
      ]
     },
     "metadata": {
      "needs_background": "light"
     },
     "output_type": "display_data"
    }
   ],
   "source": [
    "plt.boxplot(data.width)"
   ]
  },
  {
   "cell_type": "code",
   "execution_count": 78,
   "id": "c08fae16",
   "metadata": {},
   "outputs": [
    {
     "data": {
      "text/plain": [
       "(array([ 1.,  2., 36., 39., 44., 42., 20.,  7.,  6.,  8.]),\n",
       " array([60.3, 61.5, 62.7, 63.9, 65.1, 66.3, 67.5, 68.7, 69.9, 71.1, 72.3]),\n",
       " <BarContainer object of 10 artists>)"
      ]
     },
     "execution_count": 78,
     "metadata": {},
     "output_type": "execute_result"
    },
    {
     "data": {
      "image/png": "[encoded data removed]",
      "text/plain": [
       "<Figure size 432x288 with 1 Axes>"
      ]
     },
     "metadata": {
      "needs_background": "light"
     },
     "output_type": "display_data"
    }
   ],
   "source": [
    "plt.hist(data.width)"
   ]
  },
  {
   "cell_type": "code",
   "execution_count": 79,
   "id": "233becca",
   "metadata": {},
   "outputs": [
    {
     "data": {
      "text/plain": [
       "ShapiroResult(statistic=0.9210780262947083, pvalue=5.012857240416224e-09)"
      ]
     },
     "execution_count": 79,
     "metadata": {},
     "output_type": "execute_result"
    }
   ],
   "source": [
    "stats.shapiro(data.width)"
   ]
  },
  {
   "cell_type": "code",
   "execution_count": 87,
   "id": "cf02137e",
   "metadata": {},
   "outputs": [
    {
     "data": {
      "text/plain": [
       "count     205.000000\n",
       "mean     2555.565854\n",
       "std       520.680204\n",
       "min      1488.000000\n",
       "25%      2145.000000\n",
       "50%      2414.000000\n",
       "75%      2935.000000\n",
       "max      4066.000000\n",
       "Name: curb_weight, dtype: float64"
      ]
     },
     "execution_count": 87,
     "metadata": {},
     "output_type": "execute_result"
    }
   ],
   "source": [
    "  data.curb_weight.describe()\n",
    "\n",
    "\n"
   ]
  },
  {
   "cell_type": "code",
   "execution_count": 88,
   "id": "9c09a3da",
   "metadata": {},
   "outputs": [
    {
     "data": {
      "text/plain": [
       "array([2548, 2823, 2337, 2824, 2507, 2844, 2954, 3086, 3053, 2395, 2710,\n",
       "       2765, 3055, 3230, 3380, 3505, 1488, 1874, 1909, 1876, 2128, 1967,\n",
       "       1989, 2191, 2535, 2811, 1713, 1819, 1837, 1940, 1956, 2010, 2024,\n",
       "       2236, 2289, 2304, 2372, 2465, 2293, 2734, 4066, 3950, 1890, 1900,\n",
       "       1905, 1945, 1950, 2380, 2385, 2500, 2410, 2443, 2425, 2670, 2700,\n",
       "       3515, 3750, 3495, 3770, 3740, 3685, 3900, 3715, 2910, 1918, 1944,\n",
       "       2004, 2145, 2370, 2328, 2833, 2921, 2926, 2365, 2405, 2403, 1889,\n",
       "       2017, 1938, 1951, 2028, 1971, 2037, 2008, 2324, 2302, 3095, 3296,\n",
       "       3060, 3071, 3139, 3020, 3197, 3430, 3075, 3252, 3285, 3485, 3130,\n",
       "       2818, 2778, 2756, 2800, 3366, 2579, 2460, 2658, 2695, 2707, 2758,\n",
       "       2808, 2847, 2050, 2120, 2240, 2190, 2340, 2510, 2290, 2455, 2420,\n",
       "       2650, 1985, 2040, 2015, 2280, 3110, 2081, 2109, 2275, 2094, 2122,\n",
       "       2140, 2169, 2204, 2265, 2300, 2540, 2536, 2551, 2679, 2714, 2975,\n",
       "       2326, 2480, 2414, 2458, 2976, 3016, 3131, 3151, 2261, 2209, 2264,\n",
       "       2212, 2319, 2254, 2221, 2661, 2563, 2912, 3034, 2935, 3042, 3045,\n",
       "       3157, 2952, 3049, 3012, 3217, 3062], dtype=int64)"
      ]
     },
     "execution_count": 88,
     "metadata": {},
     "output_type": "execute_result"
    }
   ],
   "source": [
    "  data.curb_weight.unique()"
   ]
  },
  {
   "cell_type": "code",
   "execution_count": 89,
   "id": "b7b67838",
   "metadata": {},
   "outputs": [
    {
     "data": {
      "text/plain": [
       "{'whiskers': [<matplotlib.lines.Line2D at 0x22058ffa760>,\n",
       "  <matplotlib.lines.Line2D at 0x22058ffaaf0>],\n",
       " 'caps': [<matplotlib.lines.Line2D at 0x22058ffae80>,\n",
       "  <matplotlib.lines.Line2D at 0x22058cd6250>],\n",
       " 'boxes': [<matplotlib.lines.Line2D at 0x22058ffa3d0>],\n",
       " 'medians': [<matplotlib.lines.Line2D at 0x22058cd65e0>],\n",
       " 'fliers': [<matplotlib.lines.Line2D at 0x22058cd6970>],\n",
       " 'means': []}"
      ]
     },
     "execution_count": 89,
     "metadata": {},
     "output_type": "execute_result"
    },
    {
     "data": {
      "image/png": "[encoded data removed]",
      "text/plain": [
       "<Figure size 432x288 with 1 Axes>"
      ]
     },
     "metadata": {
      "needs_background": "light"
     },
     "output_type": "display_data"
    }
   ],
   "source": [
    "plt.boxplot(data.curb_weight)"
   ]
  },
  {
   "cell_type": "code",
   "execution_count": 90,
   "id": "a35dbba1",
   "metadata": {},
   "outputs": [
    {
     "data": {
      "text/plain": [
       "(array([ 2., 29., 33., 50., 25., 23., 26.,  8.,  5.,  4.]),\n",
       " array([1488. , 1745.8, 2003.6, 2261.4, 2519.2, 2777. , 3034.8, 3292.6,\n",
       "        3550.4, 3808.2, 4066. ]),\n",
       " <BarContainer object of 10 artists>)"
      ]
     },
     "execution_count": 90,
     "metadata": {},
     "output_type": "execute_result"
    },
    {
     "data": {
      "image/png": "[encoded data removed]",
      "text/plain": [
       "<Figure size 432x288 with 1 Axes>"
      ]
     },
     "metadata": {
      "needs_background": "light"
     },
     "output_type": "display_data"
    }
   ],
   "source": [
    "plt.hist(data.curb_weight)"
   ]
  },
  {
   "cell_type": "code",
   "execution_count": 91,
   "id": "afc58dc0",
   "metadata": {},
   "outputs": [
    {
     "data": {
      "text/plain": [
       "ShapiroResult(statistic=0.9530424475669861, pvalue=2.8916113024024526e-06)"
      ]
     },
     "execution_count": 91,
     "metadata": {},
     "output_type": "execute_result"
    }
   ],
   "source": [
    "stats.shapiro(data.curb_weight)"
   ]
  },
  {
   "cell_type": "code",
   "execution_count": 93,
   "id": "ce5179d4",
   "metadata": {},
   "outputs": [
    {
     "data": {
      "text/plain": [
       "count    205.000000\n",
       "mean     126.907317\n",
       "std       41.642693\n",
       "min       61.000000\n",
       "25%       97.000000\n",
       "50%      120.000000\n",
       "75%      141.000000\n",
       "max      326.000000\n",
       "Name: engine_size, dtype: float64"
      ]
     },
     "execution_count": 93,
     "metadata": {},
     "output_type": "execute_result"
    }
   ],
   "source": [
    "data.engine_size.describe()\n"
   ]
  },
  {
   "cell_type": "code",
   "execution_count": 94,
   "id": "110a8440",
   "metadata": {},
   "outputs": [
    {
     "data": {
      "text/plain": [
       "array([130, 152, 109, 136, 131, 108, 164, 209,  61,  90,  98, 122, 156,\n",
       "        92,  79, 110, 111, 119, 258, 326,  91,  70,  80, 140, 134, 183,\n",
       "       234, 308, 304,  97, 103, 120, 181, 151, 194, 203, 132, 121, 146,\n",
       "       171, 161, 141, 173, 145], dtype=int64)"
      ]
     },
     "execution_count": 94,
     "metadata": {},
     "output_type": "execute_result"
    }
   ],
   "source": [
    "data.engine_size.unique()"
   ]
  },
  {
   "cell_type": "code",
   "execution_count": 95,
   "id": "4a4d4c58",
   "metadata": {},
   "outputs": [
    {
     "data": {
      "text/plain": [
       "(array([ 6., 95., 46., 30., 14.,  7.,  2.,  2.,  0.,  3.]),\n",
       " array([ 61. ,  87.5, 114. , 140.5, 167. , 193.5, 220. , 246.5, 273. ,\n",
       "        299.5, 326. ]),\n",
       " <BarContainer object of 10 artists>)"
      ]
     },
     "execution_count": 95,
     "metadata": {},
     "output_type": "execute_result"
    },
    {
     "data": {
      "image/png": "[encoded data removed]",
      "text/plain": [
       "<Figure size 432x288 with 1 Axes>"
      ]
     },
     "metadata": {
      "needs_background": "light"
     },
     "output_type": "display_data"
    }
   ],
   "source": [
    "plt.hist(data.engine_size)"
   ]
  },
  {
   "cell_type": "code",
   "execution_count": 97,
   "id": "3f7df518",
   "metadata": {},
   "outputs": [
    {
     "data": {
      "text/plain": [
       "{'whiskers': [<matplotlib.lines.Line2D at 0x22058e7a7c0>,\n",
       "  <matplotlib.lines.Line2D at 0x22058e7ab50>],\n",
       " 'caps': [<matplotlib.lines.Line2D at 0x22058e7ae80>,\n",
       "  <matplotlib.lines.Line2D at 0x22058e88250>],\n",
       " 'boxes': [<matplotlib.lines.Line2D at 0x22058e7a460>],\n",
       " 'medians': [<matplotlib.lines.Line2D at 0x22058e885e0>],\n",
       " 'fliers': [<matplotlib.lines.Line2D at 0x22058e88970>],\n",
       " 'means': []}"
      ]
     },
     "execution_count": 97,
     "metadata": {},
     "output_type": "execute_result"
    },
    {
     "data": {
      "image/png": "[encoded data removed]",
      "text/plain": [
       "<Figure size 432x288 with 1 Axes>"
      ]
     },
     "metadata": {
      "needs_background": "light"
     },
     "output_type": "display_data"
    }
   ],
   "source": [
    "plt.boxplot(data.engine_size)"
   ]
  },
  {
   "cell_type": "code",
   "execution_count": 98,
   "id": "8fc33524",
   "metadata": {},
   "outputs": [
    {
     "data": {
      "text/plain": [
       "ShapiroResult(statistic=0.8294388651847839, pvalue=3.0569154792128156e-14)"
      ]
     },
     "execution_count": 98,
     "metadata": {},
     "output_type": "execute_result"
    }
   ],
   "source": [
    "stats.shapiro(data.engine_size)"
   ]
  },
  {
   "cell_type": "code",
   "execution_count": 99,
   "id": "b12fe795",
   "metadata": {},
   "outputs": [
    {
     "data": {
      "text/plain": [
       "count    201.000000\n",
       "mean       3.329751\n",
       "std        0.273539\n",
       "min        2.540000\n",
       "25%        3.150000\n",
       "50%        3.310000\n",
       "75%        3.590000\n",
       "max        3.940000\n",
       "Name: bore, dtype: float64"
      ]
     },
     "execution_count": 99,
     "metadata": {},
     "output_type": "execute_result"
    }
   ],
   "source": [
    "  data.bore.describe()\n",
    "  "
   ]
  },
  {
   "cell_type": "code",
   "execution_count": 100,
   "id": "8f06d6c8",
   "metadata": {},
   "outputs": [
    {
     "data": {
      "text/plain": [
       "array([3.47, 2.68, 3.19, 3.13, 3.5 , 3.31, 3.62, 2.91, 3.03, 2.97, 3.34,\n",
       "       3.6 , 2.92, 3.15, 3.43, 3.63, 3.54, 3.08,  nan, 3.39, 3.76, 3.58,\n",
       "       3.46, 3.8 , 3.78, 3.17, 3.35, 3.59, 2.99, 3.33, 3.7 , 3.61, 3.94,\n",
       "       3.74, 2.54, 3.05, 3.27, 3.24, 3.01])"
      ]
     },
     "execution_count": 100,
     "metadata": {},
     "output_type": "execute_result"
    }
   ],
   "source": [
    "data.bore.unique()"
   ]
  },
  {
   "cell_type": "code",
   "execution_count": 255,
   "id": "a94be26e",
   "metadata": {},
   "outputs": [],
   "source": [
    "data.bore.fillna(data.bore.mean(),inplace=True)"
   ]
  },
  {
   "cell_type": "code",
   "execution_count": 256,
   "id": "fc43d884",
   "metadata": {},
   "outputs": [
    {
     "data": {
      "text/plain": [
       "0"
      ]
     },
     "execution_count": 256,
     "metadata": {},
     "output_type": "execute_result"
    }
   ],
   "source": [
    "data.bore.isnull().sum()"
   ]
  },
  {
   "cell_type": "code",
   "execution_count": 122,
   "id": "16c071e9",
   "metadata": {},
   "outputs": [
    {
     "data": {
      "text/plain": [
       "{'whiskers': [<matplotlib.lines.Line2D at 0x2205a4db3a0>,\n",
       "  <matplotlib.lines.Line2D at 0x2205a4db730>],\n",
       " 'caps': [<matplotlib.lines.Line2D at 0x2205a4dbac0>,\n",
       "  <matplotlib.lines.Line2D at 0x2205a4dbe50>],\n",
       " 'boxes': [<matplotlib.lines.Line2D at 0x2205a4ccfa0>],\n",
       " 'medians': [<matplotlib.lines.Line2D at 0x2205a4e7220>],\n",
       " 'fliers': [<matplotlib.lines.Line2D at 0x2205a4e75b0>],\n",
       " 'means': []}"
      ]
     },
     "execution_count": 122,
     "metadata": {},
     "output_type": "execute_result"
    },
    {
     "data": {
      "image/png": "[encoded data removed]",
      "text/plain": [
       "<Figure size 432x288 with 1 Axes>"
      ]
     },
     "metadata": {
      "needs_background": "light"
     },
     "output_type": "display_data"
    }
   ],
   "source": [
    "plt.boxplot(data.bore)"
   ]
  },
  {
   "cell_type": "code",
   "execution_count": 121,
   "id": "d1e2370f",
   "metadata": {},
   "outputs": [
    {
     "data": {
      "text/plain": [
       "(array([ 1.,  1.,  8., 37., 40., 28., 27., 42., 17.,  4.]),\n",
       " array([2.54, 2.68, 2.82, 2.96, 3.1 , 3.24, 3.38, 3.52, 3.66, 3.8 , 3.94]),\n",
       " <BarContainer object of 10 artists>)"
      ]
     },
     "execution_count": 121,
     "metadata": {},
     "output_type": "execute_result"
    },
    {
     "data": {
      "image/png": "[encoded data removed]",
      "text/plain": [
       "<Figure size 432x288 with 1 Axes>"
      ]
     },
     "metadata": {
      "needs_background": "light"
     },
     "output_type": "display_data"
    }
   ],
   "source": [
    "plt.hist(data.bore)"
   ]
  },
  {
   "cell_type": "code",
   "execution_count": 120,
   "id": "7f5afad0",
   "metadata": {},
   "outputs": [
    {
     "data": {
      "text/plain": [
       "ShapiroResult(statistic=0.967185378074646, pvalue=0.00010421191109344363)"
      ]
     },
     "execution_count": 120,
     "metadata": {},
     "output_type": "execute_result"
    }
   ],
   "source": [
    "stats.shapiro(data.bore)"
   ]
  },
  {
   "cell_type": "code",
   "execution_count": 118,
   "id": "4abe10f7",
   "metadata": {},
   "outputs": [
    {
     "data": {
      "text/plain": [
       "count    205.000000\n",
       "mean       3.255423\n",
       "std        0.313597\n",
       "min        2.070000\n",
       "25%        3.110000\n",
       "50%        3.290000\n",
       "75%        3.410000\n",
       "max        4.170000\n",
       "Name: stroke, dtype: float64"
      ]
     },
     "execution_count": 118,
     "metadata": {},
     "output_type": "execute_result"
    }
   ],
   "source": [
    "data.stroke.describe()\n",
    "  "
   ]
  },
  {
   "cell_type": "code",
   "execution_count": 119,
   "id": "658c7deb",
   "metadata": {},
   "outputs": [
    {
     "data": {
      "text/plain": [
       "array([2.68      , 3.47      , 3.4       , 2.8       , 3.19      ,\n",
       "       3.39      , 3.03      , 3.11      , 3.23      , 3.46      ,\n",
       "       3.9       , 3.41      , 3.07      , 3.58      , 4.17      ,\n",
       "       2.76      , 3.15      , 3.25542289, 3.16      , 3.64      ,\n",
       "       3.1       , 3.35      , 3.12      , 3.86      , 3.29      ,\n",
       "       3.27      , 3.52      , 2.19      , 3.21      , 2.9       ,\n",
       "       2.07      , 2.36      , 2.64      , 3.08      , 3.5       ,\n",
       "       3.54      , 2.87      ])"
      ]
     },
     "execution_count": 119,
     "metadata": {},
     "output_type": "execute_result"
    }
   ],
   "source": [
    "data.stroke.unique()"
   ]
  },
  {
   "cell_type": "code",
   "execution_count": 260,
   "id": "c73e9e38",
   "metadata": {},
   "outputs": [],
   "source": [
    "\n",
    "data.stroke.fillna(data.stroke.mean(),inplace=True)"
   ]
  },
  {
   "cell_type": "code",
   "execution_count": 261,
   "id": "f069fcbd",
   "metadata": {},
   "outputs": [
    {
     "data": {
      "text/plain": [
       "0"
      ]
     },
     "execution_count": 261,
     "metadata": {},
     "output_type": "execute_result"
    }
   ],
   "source": [
    "data.stroke.isnull().sum()"
   ]
  },
  {
   "cell_type": "code",
   "execution_count": 124,
   "id": "f672771c",
   "metadata": {},
   "outputs": [
    {
     "data": {
      "text/plain": [
       "{'whiskers': [<matplotlib.lines.Line2D at 0x2205a542880>,\n",
       "  <matplotlib.lines.Line2D at 0x2205a542c10>],\n",
       " 'caps': [<matplotlib.lines.Line2D at 0x2205a542fd0>,\n",
       "  <matplotlib.lines.Line2D at 0x2205a54f3a0>],\n",
       " 'boxes': [<matplotlib.lines.Line2D at 0x2205a5424f0>],\n",
       " 'medians': [<matplotlib.lines.Line2D at 0x2205a54f730>],\n",
       " 'fliers': [<matplotlib.lines.Line2D at 0x2205a54fac0>],\n",
       " 'means': []}"
      ]
     },
     "execution_count": 124,
     "metadata": {},
     "output_type": "execute_result"
    },
    {
     "data": {
      "image/png": "[encoded data removed]",
      "text/plain": [
       "<Figure size 432x288 with 1 Axes>"
      ]
     },
     "metadata": {
      "needs_background": "light"
     },
     "output_type": "display_data"
    }
   ],
   "source": [
    "plt.boxplot(data.stroke)"
   ]
  },
  {
   "cell_type": "code",
   "execution_count": 125,
   "id": "e2619270",
   "metadata": {},
   "outputs": [
    {
     "data": {
      "text/plain": [
       "(array([ 3.,  1., 13.,  7., 30., 56., 71., 15.,  7.,  2.]),\n",
       " array([2.07, 2.28, 2.49, 2.7 , 2.91, 3.12, 3.33, 3.54, 3.75, 3.96, 4.17]),\n",
       " <BarContainer object of 10 artists>)"
      ]
     },
     "execution_count": 125,
     "metadata": {},
     "output_type": "execute_result"
    },
    {
     "data": {
      "image/png": "[encoded data removed]",
      "text/plain": [
       "<Figure size 432x288 with 1 Axes>"
      ]
     },
     "metadata": {
      "needs_background": "light"
     },
     "output_type": "display_data"
    }
   ],
   "source": [
    "plt.hist(data.stroke)"
   ]
  },
  {
   "cell_type": "code",
   "execution_count": 126,
   "id": "de90efbc",
   "metadata": {},
   "outputs": [
    {
     "data": {
      "text/plain": [
       "ShapiroResult(statistic=0.9377973675727844, pvalue=1.0984009435333064e-07)"
      ]
     },
     "execution_count": 126,
     "metadata": {},
     "output_type": "execute_result"
    }
   ],
   "source": [
    "stats.shapiro(data.stroke)"
   ]
  },
  {
   "cell_type": "code",
   "execution_count": 110,
   "id": "175f9774",
   "metadata": {},
   "outputs": [
    {
     "data": {
      "text/plain": [
       "count    205.000000\n",
       "mean      10.142537\n",
       "std        3.972040\n",
       "min        7.000000\n",
       "25%        8.600000\n",
       "50%        9.000000\n",
       "75%        9.400000\n",
       "max       23.000000\n",
       "Name: compression_ratio, dtype: float64"
      ]
     },
     "execution_count": 110,
     "metadata": {},
     "output_type": "execute_result"
    }
   ],
   "source": [
    "data.compression_ratio.describe()\n",
    "  "
   ]
  },
  {
   "cell_type": "code",
   "execution_count": 111,
   "id": "b3fc69a4",
   "metadata": {},
   "outputs": [
    {
     "data": {
      "text/plain": [
       "array([ 9.  , 10.  ,  8.  ,  8.5 ,  8.3 ,  7.  ,  8.8 ,  9.5 ,  9.6 ,\n",
       "        9.41,  9.4 ,  7.6 ,  9.2 , 10.1 ,  9.1 ,  8.1 , 11.5 ,  8.6 ,\n",
       "       22.7 , 22.  , 21.5 ,  7.5 , 21.9 ,  7.8 ,  8.4 , 21.  ,  8.7 ,\n",
       "        9.31,  9.3 ,  7.7 , 22.5 , 23.  ])"
      ]
     },
     "execution_count": 111,
     "metadata": {},
     "output_type": "execute_result"
    }
   ],
   "source": [
    "data.compression_ratio.unique()"
   ]
  },
  {
   "cell_type": "code",
   "execution_count": 112,
   "id": "4b3108aa",
   "metadata": {},
   "outputs": [
    {
     "data": {
      "text/plain": [
       "{'whiskers': [<matplotlib.lines.Line2D at 0x2205a303850>,\n",
       "  <matplotlib.lines.Line2D at 0x2205a303be0>],\n",
       " 'caps': [<matplotlib.lines.Line2D at 0x2205a303f70>,\n",
       "  <matplotlib.lines.Line2D at 0x2205a310340>],\n",
       " 'boxes': [<matplotlib.lines.Line2D at 0x2205a3034c0>],\n",
       " 'medians': [<matplotlib.lines.Line2D at 0x2205a3106d0>],\n",
       " 'fliers': [<matplotlib.lines.Line2D at 0x2205a310a60>],\n",
       " 'means': []}"
      ]
     },
     "execution_count": 112,
     "metadata": {},
     "output_type": "execute_result"
    },
    {
     "data": {
      "image/png": "[encoded data removed]",
      "text/plain": [
       "<Figure size 432x288 with 1 Axes>"
      ]
     },
     "metadata": {
      "needs_background": "light"
     },
     "output_type": "display_data"
    }
   ],
   "source": [
    "plt.boxplot(data.compression_ratio)"
   ]
  },
  {
   "cell_type": "code",
   "execution_count": 114,
   "id": "b413cc7e",
   "metadata": {},
   "outputs": [
    {
     "data": {
      "text/plain": [
       "(array([ 51., 133.,   1.,   0.,   0.,   0.,   0.,   0.,   5.,  15.]),\n",
       " array([ 7. ,  8.6, 10.2, 11.8, 13.4, 15. , 16.6, 18.2, 19.8, 21.4, 23. ]),\n",
       " <BarContainer object of 10 artists>)"
      ]
     },
     "execution_count": 114,
     "metadata": {},
     "output_type": "execute_result"
    },
    {
     "data": {
      "image/png": "[encoded data removed]",
      "text/plain": [
       "<Figure size 432x288 with 1 Axes>"
      ]
     },
     "metadata": {
      "needs_background": "light"
     },
     "output_type": "display_data"
    }
   ],
   "source": [
    "plt.hist(data.compression_ratio)"
   ]
  },
  {
   "cell_type": "code",
   "execution_count": 127,
   "id": "487b7586",
   "metadata": {},
   "outputs": [
    {
     "data": {
      "text/plain": [
       "ShapiroResult(statistic=0.49774158000946045, pvalue=8.12114079238121e-24)"
      ]
     },
     "execution_count": 127,
     "metadata": {},
     "output_type": "execute_result"
    }
   ],
   "source": [
    "stats.shapiro(data.compression_ratio)"
   ]
  },
  {
   "cell_type": "code",
   "execution_count": 128,
   "id": "13467ded",
   "metadata": {},
   "outputs": [
    {
     "data": {
      "text/plain": [
       "count    203.000000\n",
       "mean     104.256158\n",
       "std       39.714369\n",
       "min       48.000000\n",
       "25%       70.000000\n",
       "50%       95.000000\n",
       "75%      116.000000\n",
       "max      288.000000\n",
       "Name: horsepower, dtype: float64"
      ]
     },
     "execution_count": 128,
     "metadata": {},
     "output_type": "execute_result"
    }
   ],
   "source": [
    "data.horsepower.describe()"
   ]
  },
  {
   "cell_type": "code",
   "execution_count": 129,
   "id": "8ecbad09",
   "metadata": {},
   "outputs": [
    {
     "data": {
      "text/plain": [
       "array([111., 154., 102., 115., 110., 140., 160., 101., 121., 182.,  48.,\n",
       "        70.,  68.,  88., 145.,  58.,  76.,  60.,  86., 100.,  78.,  90.,\n",
       "       176., 262., 135.,  84.,  64., 120.,  72., 123., 155., 184., 175.,\n",
       "       116.,  69.,  55.,  97., 152., 200.,  95., 142., 143., 207., 288.,\n",
       "        nan,  73.,  82.,  94.,  62.,  56., 112.,  92., 161., 156.,  52.,\n",
       "        85., 114., 162., 134., 106.])"
      ]
     },
     "execution_count": 129,
     "metadata": {},
     "output_type": "execute_result"
    }
   ],
   "source": [
    "data.horsepower.unique()\n"
   ]
  },
  {
   "cell_type": "code",
   "execution_count": 130,
   "id": "42f4b722",
   "metadata": {},
   "outputs": [
    {
     "data": {
      "text/plain": [
       "(array([55., 49., 49., 13., 23.,  8.,  4.,  0.,  1.,  1.]),\n",
       " array([ 48.,  72.,  96., 120., 144., 168., 192., 216., 240., 264., 288.]),\n",
       " <BarContainer object of 10 artists>)"
      ]
     },
     "execution_count": 130,
     "metadata": {},
     "output_type": "execute_result"
    },
    {
     "data": {
      "image/png": "[encoded data removed]",
      "text/plain": [
       "<Figure size 432x288 with 1 Axes>"
      ]
     },
     "metadata": {
      "needs_background": "light"
     },
     "output_type": "display_data"
    }
   ],
   "source": [
    "plt.hist(data.horsepower)"
   ]
  },
  {
   "cell_type": "code",
   "execution_count": 131,
   "id": "0793bc18",
   "metadata": {},
   "outputs": [
    {
     "data": {
      "text/plain": [
       "{'whiskers': [<matplotlib.lines.Line2D at 0x2205a69a040>,\n",
       "  <matplotlib.lines.Line2D at 0x2205a69a3d0>],\n",
       " 'caps': [<matplotlib.lines.Line2D at 0x2205a69a760>,\n",
       "  <matplotlib.lines.Line2D at 0x2205a69aaf0>],\n",
       " 'boxes': [<matplotlib.lines.Line2D at 0x2205a68bc70>],\n",
       " 'medians': [<matplotlib.lines.Line2D at 0x2205a69aeb0>],\n",
       " 'fliers': [<matplotlib.lines.Line2D at 0x2205a6a7280>],\n",
       " 'means': []}"
      ]
     },
     "execution_count": 131,
     "metadata": {},
     "output_type": "execute_result"
    },
    {
     "data": {
      "image/png": "[encoded data removed]",
      "text/plain": [
       "<Figure size 432x288 with 1 Axes>"
      ]
     },
     "metadata": {
      "needs_background": "light"
     },
     "output_type": "display_data"
    }
   ],
   "source": [
    "plt.boxplot(data.horsepower)"
   ]
  },
  {
   "cell_type": "code",
   "execution_count": 267,
   "id": "becef244",
   "metadata": {},
   "outputs": [],
   "source": [
    "\n",
    "data.horsepower.fillna(data.horsepower.mean(),inplace=True)"
   ]
  },
  {
   "cell_type": "code",
   "execution_count": 268,
   "id": "55917f01",
   "metadata": {},
   "outputs": [
    {
     "data": {
      "text/plain": [
       "0"
      ]
     },
     "execution_count": 268,
     "metadata": {},
     "output_type": "execute_result"
    }
   ],
   "source": [
    "data.horsepower.isnull().sum()"
   ]
  },
  {
   "cell_type": "code",
   "execution_count": 137,
   "id": "046dea4a",
   "metadata": {},
   "outputs": [
    {
     "data": {
      "text/plain": [
       "ShapiroResult(statistic=0.8850876688957214, pvalue=2.11449850684442e-11)"
      ]
     },
     "execution_count": 137,
     "metadata": {},
     "output_type": "execute_result"
    }
   ],
   "source": [
    "stats.shapiro(data.horsepower)"
   ]
  },
  {
   "cell_type": "code",
   "execution_count": 138,
   "id": "133dc681",
   "metadata": {},
   "outputs": [
    {
     "data": {
      "text/plain": [
       "count     203.000000\n",
       "mean     5125.369458\n",
       "std       479.334560\n",
       "min      4150.000000\n",
       "25%      4800.000000\n",
       "50%      5200.000000\n",
       "75%      5500.000000\n",
       "max      6600.000000\n",
       "Name: peak_rpm, dtype: float64"
      ]
     },
     "execution_count": 138,
     "metadata": {},
     "output_type": "execute_result"
    }
   ],
   "source": [
    "data.peak_rpm.describe()"
   ]
  },
  {
   "cell_type": "code",
   "execution_count": 139,
   "id": "ab281eb0",
   "metadata": {},
   "outputs": [
    {
     "data": {
      "text/plain": [
       "array([5000., 5500., 5800., 4250., 5400., 5100., 4800., 6000., 4750.,\n",
       "       4650., 4200., 4350., 4500., 5200., 4150., 5600., 5900., 5750.,\n",
       "         nan, 5250., 4900., 4400., 6600., 5300.])"
      ]
     },
     "execution_count": 139,
     "metadata": {},
     "output_type": "execute_result"
    }
   ],
   "source": [
    "data.peak_rpm.unique()"
   ]
  },
  {
   "cell_type": "code",
   "execution_count": 140,
   "id": "3776b511",
   "metadata": {},
   "outputs": [
    {
     "data": {
      "text/plain": [
       "{'whiskers': [<matplotlib.lines.Line2D at 0x2205a7004f0>,\n",
       "  <matplotlib.lines.Line2D at 0x2205a700880>],\n",
       " 'caps': [<matplotlib.lines.Line2D at 0x2205a700c10>,\n",
       "  <matplotlib.lines.Line2D at 0x2205a700fa0>],\n",
       " 'boxes': [<matplotlib.lines.Line2D at 0x2205a700160>],\n",
       " 'medians': [<matplotlib.lines.Line2D at 0x2205a70a370>],\n",
       " 'fliers': [<matplotlib.lines.Line2D at 0x2205a70a730>],\n",
       " 'means': []}"
      ]
     },
     "execution_count": 140,
     "metadata": {},
     "output_type": "execute_result"
    },
    {
     "data": {
      "image/png": "[encoded data removed]",
      "text/plain": [
       "<Figure size 432x288 with 1 Axes>"
      ]
     },
     "metadata": {
      "needs_background": "light"
     },
     "output_type": "display_data"
    }
   ],
   "source": [
    "\n",
    "  plt.boxplot(data.peak_rpm)"
   ]
  },
  {
   "cell_type": "code",
   "execution_count": 141,
   "id": "9a194973",
   "metadata": {},
   "outputs": [
    {
     "data": {
      "text/plain": [
       "(array([17., 10., 41., 31., 31., 51.,  8., 12.,  0.,  2.]),\n",
       " array([4150., 4395., 4640., 4885., 5130., 5375., 5620., 5865., 6110.,\n",
       "        6355., 6600.]),\n",
       " <BarContainer object of 10 artists>)"
      ]
     },
     "execution_count": 141,
     "metadata": {},
     "output_type": "execute_result"
    },
    {
     "data": {
      "image/png": "[encoded data removed]",
      "text/plain": [
       "<Figure size 432x288 with 1 Axes>"
      ]
     },
     "metadata": {
      "needs_background": "light"
     },
     "output_type": "display_data"
    }
   ],
   "source": [
    "plt.hist(data.peak_rpm)"
   ]
  },
  {
   "cell_type": "code",
   "execution_count": 273,
   "id": "b2b89639",
   "metadata": {},
   "outputs": [],
   "source": [
    "\n",
    "data.peak_rpm.fillna(data.peak_rpm.mean(),inplace=True)"
   ]
  },
  {
   "cell_type": "code",
   "execution_count": 274,
   "id": "94e411f4",
   "metadata": {},
   "outputs": [
    {
     "data": {
      "text/plain": [
       "0"
      ]
     },
     "execution_count": 274,
     "metadata": {},
     "output_type": "execute_result"
    }
   ],
   "source": [
    "data.peak_rpm.isnull().sum()"
   ]
  },
  {
   "cell_type": "code",
   "execution_count": 146,
   "id": "0bb0d6cf",
   "metadata": {},
   "outputs": [
    {
     "data": {
      "text/plain": [
       "ShapiroResult(statistic=0.9705138802528381, pvalue=0.000267903262283653)"
      ]
     },
     "execution_count": 146,
     "metadata": {},
     "output_type": "execute_result"
    }
   ],
   "source": [
    "stats.shapiro(data.peak_rpm)"
   ]
  },
  {
   "cell_type": "code",
   "execution_count": 147,
   "id": "ebe795eb",
   "metadata": {},
   "outputs": [
    {
     "data": {
      "text/plain": [
       "count    205.000000\n",
       "mean      25.219512\n",
       "std        6.542142\n",
       "min       13.000000\n",
       "25%       19.000000\n",
       "50%       24.000000\n",
       "75%       30.000000\n",
       "max       49.000000\n",
       "Name: city_mpg, dtype: float64"
      ]
     },
     "execution_count": 147,
     "metadata": {},
     "output_type": "execute_result"
    }
   ],
   "source": [
    "data.city_mpg.describe()\n"
   ]
  },
  {
   "cell_type": "code",
   "execution_count": 148,
   "id": "0a1bcc77",
   "metadata": {},
   "outputs": [
    {
     "data": {
      "text/plain": [
       "array([21, 19, 24, 18, 17, 16, 23, 20, 15, 47, 38, 37, 31, 49, 30, 27, 25,\n",
       "       13, 26, 36, 22, 14, 45, 28, 32, 35, 34, 29, 33], dtype=int64)"
      ]
     },
     "execution_count": 148,
     "metadata": {},
     "output_type": "execute_result"
    }
   ],
   "source": [
    "data.city_mpg.unique()"
   ]
  },
  {
   "cell_type": "code",
   "execution_count": 149,
   "id": "2bbd89d0",
   "metadata": {},
   "outputs": [
    {
     "data": {
      "text/plain": [
       "{'whiskers': [<matplotlib.lines.Line2D at 0x2205a7d8670>,\n",
       "  <matplotlib.lines.Line2D at 0x2205a7d8a00>],\n",
       " 'caps': [<matplotlib.lines.Line2D at 0x2205a7d8d90>,\n",
       "  <matplotlib.lines.Line2D at 0x2205a7e3160>],\n",
       " 'boxes': [<matplotlib.lines.Line2D at 0x2205a7d82e0>],\n",
       " 'medians': [<matplotlib.lines.Line2D at 0x2205a7e34f0>],\n",
       " 'fliers': [<matplotlib.lines.Line2D at 0x2205a7e3880>],\n",
       " 'means': []}"
      ]
     },
     "execution_count": 149,
     "metadata": {},
     "output_type": "execute_result"
    },
    {
     "data": {
      "image/png": "[encoded data removed]",
      "text/plain": [
       "<Figure size 432x288 with 1 Axes>"
      ]
     },
     "metadata": {
      "needs_background": "light"
     },
     "output_type": "display_data"
    }
   ],
   "source": [
    "plt.boxplot(data.city_mpg)"
   ]
  },
  {
   "cell_type": "code",
   "execution_count": 150,
   "id": "e7dbe329",
   "metadata": {},
   "outputs": [
    {
     "data": {
      "text/plain": [
       "(array([12., 46., 24., 56., 18., 31., 15.,  0.,  1.,  2.]),\n",
       " array([13. , 16.6, 20.2, 23.8, 27.4, 31. , 34.6, 38.2, 41.8, 45.4, 49. ]),\n",
       " <BarContainer object of 10 artists>)"
      ]
     },
     "execution_count": 150,
     "metadata": {},
     "output_type": "execute_result"
    },
    {
     "data": {
      "image/png": "[encoded data removed]",
      "text/plain": [
       "<Figure size 432x288 with 1 Axes>"
      ]
     },
     "metadata": {
      "needs_background": "light"
     },
     "output_type": "display_data"
    }
   ],
   "source": [
    "plt.hist(data.city_mpg)"
   ]
  },
  {
   "cell_type": "code",
   "execution_count": 151,
   "id": "660bfc11",
   "metadata": {},
   "outputs": [
    {
     "data": {
      "text/plain": [
       "ShapiroResult(statistic=0.9572238922119141, pvalue=7.825866305211093e-06)"
      ]
     },
     "execution_count": 151,
     "metadata": {},
     "output_type": "execute_result"
    }
   ],
   "source": [
    "stats.shapiro(data.city_mpg)"
   ]
  },
  {
   "cell_type": "code",
   "execution_count": 153,
   "id": "44c571b1",
   "metadata": {},
   "outputs": [
    {
     "data": {
      "text/plain": [
       "count    205.000000\n",
       "mean      30.751220\n",
       "std        6.886443\n",
       "min       16.000000\n",
       "25%       25.000000\n",
       "50%       30.000000\n",
       "75%       34.000000\n",
       "max       54.000000\n",
       "Name: highway_mpg, dtype: float64"
      ]
     },
     "execution_count": 153,
     "metadata": {},
     "output_type": "execute_result"
    }
   ],
   "source": [
    "data.highway_mpg.describe()\n"
   ]
  },
  {
   "cell_type": "code",
   "execution_count": 154,
   "id": "092b85e8",
   "metadata": {},
   "outputs": [
    {
     "data": {
      "text/plain": [
       "array([27, 26, 30, 22, 25, 20, 29, 28, 53, 43, 41, 38, 24, 54, 42, 34, 33,\n",
       "       31, 19, 17, 23, 32, 39, 18, 16, 37, 50, 36, 47, 46], dtype=int64)"
      ]
     },
     "execution_count": 154,
     "metadata": {},
     "output_type": "execute_result"
    }
   ],
   "source": [
    "data.highway_mpg.unique()"
   ]
  },
  {
   "cell_type": "code",
   "execution_count": 156,
   "id": "8e89d8bd",
   "metadata": {},
   "outputs": [
    {
     "data": {
      "text/plain": [
       "{'whiskers': [<matplotlib.lines.Line2D at 0x2205a93b7c0>,\n",
       "  <matplotlib.lines.Line2D at 0x2205a93bb50>],\n",
       " 'caps': [<matplotlib.lines.Line2D at 0x2205a93bee0>,\n",
       "  <matplotlib.lines.Line2D at 0x2205a9482b0>],\n",
       " 'boxes': [<matplotlib.lines.Line2D at 0x2205a93b430>],\n",
       " 'medians': [<matplotlib.lines.Line2D at 0x2205a948640>],\n",
       " 'fliers': [<matplotlib.lines.Line2D at 0x2205a9489d0>],\n",
       " 'means': []}"
      ]
     },
     "execution_count": 156,
     "metadata": {},
     "output_type": "execute_result"
    },
    {
     "data": {
      "image/png": "[encoded data removed]",
      "text/plain": [
       "<Figure size 432x288 with 1 Axes>"
      ]
     },
     "metadata": {
      "needs_background": "light"
     },
     "output_type": "display_data"
    }
   ],
   "source": [
    "plt.boxplot(data.highway_mpg)"
   ]
  },
  {
   "cell_type": "code",
   "execution_count": 157,
   "id": "88dd8404",
   "metadata": {},
   "outputs": [
    {
     "data": {
      "text/plain": [
       "(array([ 7., 17., 44., 47., 39., 32.,  8.,  6.,  3.,  2.]),\n",
       " array([16. , 19.8, 23.6, 27.4, 31.2, 35. , 38.8, 42.6, 46.4, 50.2, 54. ]),\n",
       " <BarContainer object of 10 artists>)"
      ]
     },
     "execution_count": 157,
     "metadata": {},
     "output_type": "execute_result"
    },
    {
     "data": {
      "image/png": "[encoded data removed]",
      "text/plain": [
       "<Figure size 432x288 with 1 Axes>"
      ]
     },
     "metadata": {
      "needs_background": "light"
     },
     "output_type": "display_data"
    }
   ],
   "source": [
    "plt.hist(data.highway_mpg)"
   ]
  },
  {
   "cell_type": "code",
   "execution_count": 158,
   "id": "d8a4b184",
   "metadata": {},
   "outputs": [
    {
     "data": {
      "text/plain": [
       "ShapiroResult(statistic=0.9735103845596313, pvalue=0.0006515368004329503)"
      ]
     },
     "execution_count": 158,
     "metadata": {},
     "output_type": "execute_result"
    }
   ],
   "source": [
    "stats.shapiro(data.highway_mpg)"
   ]
  },
  {
   "cell_type": "code",
   "execution_count": 159,
   "id": "1ef8a020",
   "metadata": {},
   "outputs": [
    {
     "data": {
      "text/plain": [
       "count      201.000000\n",
       "mean     13207.129353\n",
       "std       7947.066342\n",
       "min       5118.000000\n",
       "25%       7775.000000\n",
       "50%      10295.000000\n",
       "75%      16500.000000\n",
       "max      45400.000000\n",
       "Name: price, dtype: float64"
      ]
     },
     "execution_count": 159,
     "metadata": {},
     "output_type": "execute_result"
    }
   ],
   "source": [
    "\n",
    "  data.price.describe()"
   ]
  },
  {
   "cell_type": "code",
   "execution_count": 160,
   "id": "d672298d",
   "metadata": {},
   "outputs": [
    {
     "data": {
      "text/plain": [
       "array([13495., 16500., 13950., 17450., 15250., 17710., 18920., 23875.,\n",
       "          nan, 16430., 16925., 20970., 21105., 24565., 30760., 41315.,\n",
       "       36880.,  5151.,  6295.,  6575.,  5572.,  6377.,  7957.,  6229.,\n",
       "        6692.,  7609.,  8558.,  8921., 12964.,  6479.,  6855.,  5399.,\n",
       "        6529.,  7129.,  7295.,  7895.,  9095.,  8845., 10295., 12945.,\n",
       "       10345.,  6785., 11048., 32250., 35550., 36000.,  5195.,  6095.,\n",
       "        6795.,  6695.,  7395., 10945., 11845., 13645., 15645.,  8495.,\n",
       "       10595., 10245., 10795., 11245., 18280., 18344., 25552., 28248.,\n",
       "       28176., 31600., 34184., 35056., 40960., 45400., 16503.,  5389.,\n",
       "        6189.,  6669.,  7689.,  9959.,  8499., 12629., 14869., 14489.,\n",
       "        6989.,  8189.,  9279.,  5499.,  7099.,  6649.,  6849.,  7349.,\n",
       "        7299.,  7799.,  7499.,  7999.,  8249.,  8949.,  9549., 13499.,\n",
       "       14399., 17199., 19699., 18399., 11900., 13200., 12440., 13860.,\n",
       "       15580., 16900., 16695., 17075., 16630., 17950., 18150., 12764.,\n",
       "       22018., 32528., 34028., 37028.,  9295.,  9895., 11850., 12170.,\n",
       "       15040., 15510., 18620.,  5118.,  7053.,  7603.,  7126.,  7775.,\n",
       "        9960.,  9233., 11259.,  7463., 10198.,  8013., 11694.,  5348.,\n",
       "        6338.,  6488.,  6918.,  7898.,  8778.,  6938.,  7198.,  7788.,\n",
       "        7738.,  8358.,  9258.,  8058.,  8238.,  9298.,  9538.,  8449.,\n",
       "        9639.,  9989., 11199., 11549., 17669.,  8948., 10698.,  9988.,\n",
       "       10898., 11248., 16558., 15998., 15690., 15750.,  7975.,  7995.,\n",
       "        8195.,  9495.,  9995., 11595.,  9980., 13295., 13845., 12290.,\n",
       "       12940., 13415., 15985., 16515., 18420., 18950., 16845., 19045.,\n",
       "       21485., 22470., 22625.])"
      ]
     },
     "execution_count": 160,
     "metadata": {},
     "output_type": "execute_result"
    }
   ],
   "source": [
    "\n",
    "  data.price.unique()"
   ]
  },
  {
   "cell_type": "code",
   "execution_count": 161,
   "id": "209ca7b2",
   "metadata": {},
   "outputs": [
    {
     "data": {
      "text/plain": [
       "{'whiskers': [<matplotlib.lines.Line2D at 0x2205aa1b4f0>,\n",
       "  <matplotlib.lines.Line2D at 0x2205aa1b880>],\n",
       " 'caps': [<matplotlib.lines.Line2D at 0x2205aa1bc10>,\n",
       "  <matplotlib.lines.Line2D at 0x2205aa1bfa0>],\n",
       " 'boxes': [<matplotlib.lines.Line2D at 0x2205aa1b160>],\n",
       " 'medians': [<matplotlib.lines.Line2D at 0x2205aa26370>],\n",
       " 'fliers': [<matplotlib.lines.Line2D at 0x2205aa26700>],\n",
       " 'means': []}"
      ]
     },
     "execution_count": 161,
     "metadata": {},
     "output_type": "execute_result"
    },
    {
     "data": {
      "image/png": "[encoded data removed]",
      "text/plain": [
       "<Figure size 432x288 with 1 Axes>"
      ]
     },
     "metadata": {
      "needs_background": "light"
     },
     "output_type": "display_data"
    }
   ],
   "source": [
    "plt.boxplot(data.price)"
   ]
  },
  {
   "cell_type": "code",
   "execution_count": 162,
   "id": "c88d348f",
   "metadata": {},
   "outputs": [
    {
     "data": {
      "text/plain": [
       "(array([81., 45., 35., 17.,  6.,  3.,  4.,  7.,  2.,  1.]),\n",
       " array([ 5118. ,  9146.2, 13174.4, 17202.6, 21230.8, 25259. , 29287.2,\n",
       "        33315.4, 37343.6, 41371.8, 45400. ]),\n",
       " <BarContainer object of 10 artists>)"
      ]
     },
     "execution_count": 162,
     "metadata": {},
     "output_type": "execute_result"
    },
    {
     "data": {
      "image/png": "[encoded data removed]",
      "text/plain": [
       "<Figure size 432x288 with 1 Axes>"
      ]
     },
     "metadata": {
      "needs_background": "light"
     },
     "output_type": "display_data"
    }
   ],
   "source": [
    "plt.hist(data.price)"
   ]
  },
  {
   "cell_type": "code",
   "execution_count": 243,
   "id": "74c7ef5f",
   "metadata": {},
   "outputs": [],
   "source": [
    "\n",
    "data.price.fillna(data.price.mean(),inplace=True)"
   ]
  },
  {
   "cell_type": "code",
   "execution_count": 244,
   "id": "e1bbdd0b",
   "metadata": {},
   "outputs": [
    {
     "data": {
      "text/plain": [
       "ShapiroResult(statistic=0.7997004985809326, pvalue=1.691838515494677e-15)"
      ]
     },
     "execution_count": 244,
     "metadata": {},
     "output_type": "execute_result"
    }
   ],
   "source": [
    "stats.shapiro(data.price)"
   ]
  },
  {
   "cell_type": "code",
   "execution_count": 166,
   "id": "b69a4218",
   "metadata": {},
   "outputs": [
    {
     "data": {
      "text/plain": [
       "array([[<AxesSubplot:title={'center':'symboling'}>,\n",
       "        <AxesSubplot:title={'center':'normalized_losses'}>,\n",
       "        <AxesSubplot:title={'center':'wheel_base'}>,\n",
       "        <AxesSubplot:title={'center':'length'}>],\n",
       "       [<AxesSubplot:title={'center':'width'}>,\n",
       "        <AxesSubplot:title={'center':'height'}>,\n",
       "        <AxesSubplot:title={'center':'curb_weight'}>,\n",
       "        <AxesSubplot:title={'center':'engine_size'}>],\n",
       "       [<AxesSubplot:title={'center':'bore'}>,\n",
       "        <AxesSubplot:title={'center':'stroke'}>,\n",
       "        <AxesSubplot:title={'center':'compression_ratio'}>,\n",
       "        <AxesSubplot:title={'center':'horsepower'}>],\n",
       "       [<AxesSubplot:title={'center':'peak_rpm'}>,\n",
       "        <AxesSubplot:title={'center':'city_mpg'}>,\n",
       "        <AxesSubplot:title={'center':'highway_mpg'}>,\n",
       "        <AxesSubplot:title={'center':'price'}>]], dtype=object)"
      ]
     },
     "execution_count": 166,
     "metadata": {},
     "output_type": "execute_result"
    },
    {
     "data": {
      "image/png": "[encoded data removed]",
      "text/plain": [
       "<Figure size 720x864 with 16 Axes>"
      ]
     },
     "metadata": {
      "needs_background": "light"
     },
     "output_type": "display_data"
    }
   ],
   "source": [
    "data.hist(figsize=(10,12))"
   ]
  },
  {
   "cell_type": "markdown",
   "id": "122c8862",
   "metadata": {},
   "source": [
    "<h1>DISCRETE DATA\n",
    "    <h3>\n",
    "    1.SYMBOLING\n",
    "    2.MAKE\n",
    "    3.FUEL_TYPE\n",
    "    4.ASPIRATION\n",
    "    5.NUM_OF_DOOR\n",
    "    6.BODY_STYLE\n",
    "    7.DRIVE_WHEELS\n",
    "    8.ENGINE_LOCATION\n",
    "    9.ENGINE_TYPE\n",
    "    10.NUM_OF_CYLINDERS\n",
    "    11.FUEL_SYSTEM"
   ]
  },
  {
   "cell_type": "code",
   "execution_count": 167,
   "id": "554b2ba4",
   "metadata": {},
   "outputs": [
    {
     "data": {
      "text/plain": [
       "count    205.000000\n",
       "mean       0.834146\n",
       "std        1.245307\n",
       "min       -2.000000\n",
       "25%        0.000000\n",
       "50%        1.000000\n",
       "75%        2.000000\n",
       "max        3.000000\n",
       "Name: symboling, dtype: float64"
      ]
     },
     "execution_count": 167,
     "metadata": {},
     "output_type": "execute_result"
    }
   ],
   "source": [
    "data.symboling.describe()"
   ]
  },
  {
   "cell_type": "code",
   "execution_count": 170,
   "id": "cf2f6675",
   "metadata": {},
   "outputs": [
    {
     "data": {
      "text/plain": [
       "0"
      ]
     },
     "execution_count": 170,
     "metadata": {},
     "output_type": "execute_result"
    }
   ],
   "source": [
    "data.symboling.isnull().sum()"
   ]
  },
  {
   "cell_type": "code",
   "execution_count": 171,
   "id": "677c1d90",
   "metadata": {},
   "outputs": [
    {
     "data": {
      "text/plain": [
       "<bound method Series.unique of 0      3\n",
       "1      3\n",
       "2      1\n",
       "3      2\n",
       "4      2\n",
       "      ..\n",
       "200   -1\n",
       "201   -1\n",
       "202   -1\n",
       "203   -1\n",
       "204   -1\n",
       "Name: symboling, Length: 205, dtype: int64>"
      ]
     },
     "execution_count": 171,
     "metadata": {},
     "output_type": "execute_result"
    }
   ],
   "source": [
    "data.symboling.unique"
   ]
  },
  {
   "cell_type": "code",
   "execution_count": 172,
   "id": "63d6420e",
   "metadata": {},
   "outputs": [
    {
     "data": {
      "text/plain": [
       "<bound method IndexOpsMixin.value_counts of 0      3\n",
       "1      3\n",
       "2      1\n",
       "3      2\n",
       "4      2\n",
       "      ..\n",
       "200   -1\n",
       "201   -1\n",
       "202   -1\n",
       "203   -1\n",
       "204   -1\n",
       "Name: symboling, Length: 205, dtype: int64>"
      ]
     },
     "execution_count": 172,
     "metadata": {},
     "output_type": "execute_result"
    }
   ],
   "source": [
    "data.symboling.value_counts"
   ]
  },
  {
   "cell_type": "code",
   "execution_count": 173,
   "id": "0e6a67ba",
   "metadata": {},
   "outputs": [
    {
     "name": "stderr",
     "output_type": "stream",
     "text": [
      "C:\\Users\\Dell\\anaconda3\\lib\\site-packages\\seaborn\\_decorators.py:36: FutureWarning: Pass the following variable as a keyword arg: x. From version 0.12, the only valid positional argument will be `data`, and passing other arguments without an explicit keyword will result in an error or misinterpretation.\n",
      "  warnings.warn(\n"
     ]
    },
    {
     "data": {
      "text/plain": [
       "<AxesSubplot:xlabel='symboling', ylabel='count'>"
      ]
     },
     "execution_count": 173,
     "metadata": {},
     "output_type": "execute_result"
    },
    {
     "data": {
      "image/png": "[encoded data removed]",
      "text/plain": [
       "<Figure size 432x288 with 1 Axes>"
      ]
     },
     "metadata": {
      "needs_background": "light"
     },
     "output_type": "display_data"
    }
   ],
   "source": [
    "sns.countplot(data.symboling)"
   ]
  },
  {
   "cell_type": "code",
   "execution_count": 230,
   "id": "80b50fef",
   "metadata": {},
   "outputs": [
    {
     "ename": "AttributeError",
     "evalue": "'Series' object has no attribute 'order'",
     "output_type": "error",
     "traceback": [
      "\u001b[1;31m---------------------------------------------------------------------------\u001b[0m",
      "\u001b[1;31mAttributeError\u001b[0m                            Traceback (most recent call last)",
      "\u001b[1;32m~\\AppData\\Local\\Temp/ipykernel_31344/2395877391.py\u001b[0m in \u001b[0;36m<module>\u001b[1;34m\u001b[0m\n\u001b[0;32m      1\u001b[0m \u001b[0mdata\u001b[0m\u001b[1;33m.\u001b[0m\u001b[0msymboling\u001b[0m\u001b[1;33m.\u001b[0m\u001b[0mreplace\u001b[0m\u001b[1;33m(\u001b[0m\u001b[1;33m[\u001b[0m\u001b[1;33m-\u001b[0m\u001b[1;36m2\u001b[0m\u001b[1;33m,\u001b[0m\u001b[1;33m-\u001b[0m\u001b[1;36m1\u001b[0m\u001b[1;33m,\u001b[0m\u001b[1;36m0\u001b[0m\u001b[1;33m,\u001b[0m\u001b[1;36m1\u001b[0m\u001b[1;33m,\u001b[0m\u001b[1;36m2\u001b[0m\u001b[1;33m,\u001b[0m\u001b[1;36m3\u001b[0m\u001b[1;33m]\u001b[0m\u001b[1;33m,\u001b[0m\u001b[1;33m[\u001b[0m\u001b[1;34m'less than zero'\u001b[0m\u001b[1;33m,\u001b[0m\u001b[1;34m'less than zero'\u001b[0m\u001b[1;33m,\u001b[0m\u001b[1;34m'zero'\u001b[0m\u001b[1;33m,\u001b[0m\u001b[1;34m'one'\u001b[0m\u001b[1;33m,\u001b[0m\u001b[1;34m'two'\u001b[0m\u001b[1;33m,\u001b[0m\u001b[1;34m'three'\u001b[0m\u001b[1;33m]\u001b[0m\u001b[1;33m,\u001b[0m\u001b[0minplace\u001b[0m\u001b[1;33m=\u001b[0m\u001b[1;32mTrue\u001b[0m\u001b[1;33m)\u001b[0m\u001b[1;33m\u001b[0m\u001b[1;33m\u001b[0m\u001b[0m\n\u001b[1;32m----> 2\u001b[1;33m \u001b[0mdata\u001b[0m\u001b[1;33m.\u001b[0m\u001b[0msymboling\u001b[0m\u001b[1;33m.\u001b[0m\u001b[0morder\u001b[0m\u001b[1;33m(\u001b[0m\u001b[1;33m)\u001b[0m\u001b[1;33m\u001b[0m\u001b[1;33m\u001b[0m\u001b[0m\n\u001b[0m",
      "\u001b[1;32m~\\anaconda3\\lib\\site-packages\\pandas\\core\\generic.py\u001b[0m in \u001b[0;36m__getattr__\u001b[1;34m(self, name)\u001b[0m\n\u001b[0;32m   5485\u001b[0m         ):\n\u001b[0;32m   5486\u001b[0m             \u001b[1;32mreturn\u001b[0m \u001b[0mself\u001b[0m\u001b[1;33m[\u001b[0m\u001b[0mname\u001b[0m\u001b[1;33m]\u001b[0m\u001b[1;33m\u001b[0m\u001b[1;33m\u001b[0m\u001b[0m\n\u001b[1;32m-> 5487\u001b[1;33m         \u001b[1;32mreturn\u001b[0m \u001b[0mobject\u001b[0m\u001b[1;33m.\u001b[0m\u001b[0m__getattribute__\u001b[0m\u001b[1;33m(\u001b[0m\u001b[0mself\u001b[0m\u001b[1;33m,\u001b[0m \u001b[0mname\u001b[0m\u001b[1;33m)\u001b[0m\u001b[1;33m\u001b[0m\u001b[1;33m\u001b[0m\u001b[0m\n\u001b[0m\u001b[0;32m   5488\u001b[0m \u001b[1;33m\u001b[0m\u001b[0m\n\u001b[0;32m   5489\u001b[0m     \u001b[1;32mdef\u001b[0m \u001b[0m__setattr__\u001b[0m\u001b[1;33m(\u001b[0m\u001b[0mself\u001b[0m\u001b[1;33m,\u001b[0m \u001b[0mname\u001b[0m\u001b[1;33m:\u001b[0m \u001b[0mstr\u001b[0m\u001b[1;33m,\u001b[0m \u001b[0mvalue\u001b[0m\u001b[1;33m)\u001b[0m \u001b[1;33m->\u001b[0m \u001b[1;32mNone\u001b[0m\u001b[1;33m:\u001b[0m\u001b[1;33m\u001b[0m\u001b[1;33m\u001b[0m\u001b[0m\n",
      "\u001b[1;31mAttributeError\u001b[0m: 'Series' object has no attribute 'order'"
     ]
    }
   ],
   "source": [
    "\n",
    "data.symboling.replace([-2,-1,0,1,2,3],['less than zero','less than zero','zero','one','two','three'],inplace=True)\n"
   ]
  },
  {
   "cell_type": "code",
   "execution_count": 234,
   "id": "1d9a0667",
   "metadata": {},
   "outputs": [
    {
     "name": "stderr",
     "output_type": "stream",
     "text": [
      "C:\\Users\\Dell\\anaconda3\\lib\\site-packages\\seaborn\\_decorators.py:36: FutureWarning: Pass the following variable as a keyword arg: x. From version 0.12, the only valid positional argument will be `data`, and passing other arguments without an explicit keyword will result in an error or misinterpretation.\n",
      "  warnings.warn(\n"
     ]
    },
    {
     "data": {
      "text/plain": [
       "<AxesSubplot:xlabel='symboling', ylabel='count'>"
      ]
     },
     "execution_count": 234,
     "metadata": {},
     "output_type": "execute_result"
    },
    {
     "data": {
      "image/png": "[encoded data removed]",
      "text/plain": [
       "<Figure size 432x288 with 1 Axes>"
      ]
     },
     "metadata": {
      "needs_background": "light"
     },
     "output_type": "display_data"
    }
   ],
   "source": [
    "sns.countplot(data.symboling,order=['less than zero','zero','one','two','three'])"
   ]
  },
  {
   "cell_type": "code",
   "execution_count": 235,
   "id": "84a88c87",
   "metadata": {},
   "outputs": [
    {
     "data": {
      "text/plain": [
       "count        205\n",
       "unique        22\n",
       "top       toyota\n",
       "freq          32\n",
       "Name: make, dtype: object"
      ]
     },
     "execution_count": 235,
     "metadata": {},
     "output_type": "execute_result"
    }
   ],
   "source": [
    "data.make.describe()"
   ]
  },
  {
   "cell_type": "code",
   "execution_count": 174,
   "id": "041e46c3",
   "metadata": {},
   "outputs": [
    {
     "data": {
      "text/plain": [
       "array(['alfa-romero', 'audi', 'bmw', 'chevrolet', 'dodge', 'honda',\n",
       "       'isuzu', 'jaguar', 'mazda', 'mercedes-benz', 'mercury',\n",
       "       'mitsubishi', 'nissan', 'peugot', 'plymouth', 'porsche', 'renault',\n",
       "       'saab', 'subaru', 'toyota', 'volkswagen', 'volvo'], dtype=object)"
      ]
     },
     "execution_count": 174,
     "metadata": {},
     "output_type": "execute_result"
    }
   ],
   "source": [
    "data.make.unique()"
   ]
  },
  {
   "cell_type": "code",
   "execution_count": 175,
   "id": "1f2ecb22",
   "metadata": {},
   "outputs": [
    {
     "data": {
      "text/plain": [
       "<bound method IndexOpsMixin.value_counts of 0      alfa-romero\n",
       "1      alfa-romero\n",
       "2      alfa-romero\n",
       "3             audi\n",
       "4             audi\n",
       "          ...     \n",
       "200          volvo\n",
       "201          volvo\n",
       "202          volvo\n",
       "203          volvo\n",
       "204          volvo\n",
       "Name: make, Length: 205, dtype: object>"
      ]
     },
     "execution_count": 175,
     "metadata": {},
     "output_type": "execute_result"
    }
   ],
   "source": [
    "data.make.value_counts"
   ]
  },
  {
   "cell_type": "code",
   "execution_count": 183,
   "id": "447a86f4",
   "metadata": {},
   "outputs": [
    {
     "name": "stderr",
     "output_type": "stream",
     "text": [
      "C:\\Users\\Dell\\anaconda3\\lib\\site-packages\\seaborn\\_decorators.py:36: FutureWarning: Pass the following variable as a keyword arg: x. From version 0.12, the only valid positional argument will be `data`, and passing other arguments without an explicit keyword will result in an error or misinterpretation.\n",
      "  warnings.warn(\n"
     ]
    },
    {
     "data": {
      "text/plain": [
       "<AxesSubplot:xlabel='make', ylabel='count'>"
      ]
     },
     "execution_count": 183,
     "metadata": {},
     "output_type": "execute_result"
    },
    {
     "data": {
      "image/png": "[encoded data removed]",
      "text/plain": [
       "<Figure size 2160x1440 with 1 Axes>"
      ]
     },
     "metadata": {
      "needs_background": "light"
     },
     "output_type": "display_data"
    }
   ],
   "source": [
    "plt.figure(figsize=(30,20))\n",
    "sns.countplot(data.make)\n"
   ]
  },
  {
   "cell_type": "code",
   "execution_count": 184,
   "id": "eaea09db",
   "metadata": {},
   "outputs": [
    {
     "data": {
      "text/plain": [
       "count     205\n",
       "unique      2\n",
       "top       gas\n",
       "freq      185\n",
       "Name: fuel_type, dtype: object"
      ]
     },
     "execution_count": 184,
     "metadata": {},
     "output_type": "execute_result"
    }
   ],
   "source": [
    "data.fuel_type.describe()"
   ]
  },
  {
   "cell_type": "code",
   "execution_count": 185,
   "id": "a3a3bb2e",
   "metadata": {},
   "outputs": [
    {
     "data": {
      "text/plain": [
       "array(['gas', 'diesel'], dtype=object)"
      ]
     },
     "execution_count": 185,
     "metadata": {},
     "output_type": "execute_result"
    }
   ],
   "source": [
    "data.fuel_type.unique()"
   ]
  },
  {
   "cell_type": "code",
   "execution_count": 186,
   "id": "d43c0abb",
   "metadata": {},
   "outputs": [
    {
     "data": {
      "text/plain": [
       "<bound method IndexOpsMixin.value_counts of 0         gas\n",
       "1         gas\n",
       "2         gas\n",
       "3         gas\n",
       "4         gas\n",
       "        ...  \n",
       "200       gas\n",
       "201       gas\n",
       "202       gas\n",
       "203    diesel\n",
       "204       gas\n",
       "Name: fuel_type, Length: 205, dtype: object>"
      ]
     },
     "execution_count": 186,
     "metadata": {},
     "output_type": "execute_result"
    }
   ],
   "source": [
    "data.fuel_type.value_counts"
   ]
  },
  {
   "cell_type": "code",
   "execution_count": 187,
   "id": "74619647",
   "metadata": {},
   "outputs": [
    {
     "name": "stderr",
     "output_type": "stream",
     "text": [
      "C:\\Users\\Dell\\anaconda3\\lib\\site-packages\\seaborn\\_decorators.py:36: FutureWarning: Pass the following variable as a keyword arg: x. From version 0.12, the only valid positional argument will be `data`, and passing other arguments without an explicit keyword will result in an error or misinterpretation.\n",
      "  warnings.warn(\n"
     ]
    },
    {
     "data": {
      "text/plain": [
       "<AxesSubplot:xlabel='fuel_type', ylabel='count'>"
      ]
     },
     "execution_count": 187,
     "metadata": {},
     "output_type": "execute_result"
    },
    {
     "data": {
      "image/png": "[encoded data removed]",
      "text/plain": [
       "<Figure size 432x288 with 1 Axes>"
      ]
     },
     "metadata": {
      "needs_background": "light"
     },
     "output_type": "display_data"
    }
   ],
   "source": [
    "sns.countplot(data.fuel_type)"
   ]
  },
  {
   "cell_type": "code",
   "execution_count": 188,
   "id": "644a2faf",
   "metadata": {},
   "outputs": [
    {
     "data": {
      "text/plain": [
       "count     205\n",
       "unique      2\n",
       "top       std\n",
       "freq      168\n",
       "Name: aspiration, dtype: object"
      ]
     },
     "execution_count": 188,
     "metadata": {},
     "output_type": "execute_result"
    }
   ],
   "source": [
    "data.aspiration.describe()"
   ]
  },
  {
   "cell_type": "code",
   "execution_count": 189,
   "id": "d92a70d3",
   "metadata": {},
   "outputs": [
    {
     "data": {
      "text/plain": [
       "array(['std', 'turbo'], dtype=object)"
      ]
     },
     "execution_count": 189,
     "metadata": {},
     "output_type": "execute_result"
    }
   ],
   "source": [
    "data.aspiration.unique()"
   ]
  },
  {
   "cell_type": "code",
   "execution_count": 190,
   "id": "99e96537",
   "metadata": {},
   "outputs": [
    {
     "data": {
      "text/plain": [
       "<bound method IndexOpsMixin.value_counts of 0        std\n",
       "1        std\n",
       "2        std\n",
       "3        std\n",
       "4        std\n",
       "       ...  \n",
       "200      std\n",
       "201    turbo\n",
       "202      std\n",
       "203    turbo\n",
       "204    turbo\n",
       "Name: aspiration, Length: 205, dtype: object>"
      ]
     },
     "execution_count": 190,
     "metadata": {},
     "output_type": "execute_result"
    }
   ],
   "source": [
    "data.aspiration.value_counts"
   ]
  },
  {
   "cell_type": "code",
   "execution_count": 191,
   "id": "8b013969",
   "metadata": {},
   "outputs": [
    {
     "name": "stderr",
     "output_type": "stream",
     "text": [
      "C:\\Users\\Dell\\anaconda3\\lib\\site-packages\\seaborn\\_decorators.py:36: FutureWarning: Pass the following variable as a keyword arg: x. From version 0.12, the only valid positional argument will be `data`, and passing other arguments without an explicit keyword will result in an error or misinterpretation.\n",
      "  warnings.warn(\n"
     ]
    },
    {
     "data": {
      "text/plain": [
       "<AxesSubplot:xlabel='aspiration', ylabel='count'>"
      ]
     },
     "execution_count": 191,
     "metadata": {},
     "output_type": "execute_result"
    },
    {
     "data": {
      "image/png": "[encoded data removed]",
      "text/plain": [
       "<Figure size 432x288 with 1 Axes>"
      ]
     },
     "metadata": {
      "needs_background": "light"
     },
     "output_type": "display_data"
    }
   ],
   "source": [
    "sns.countplot(data.aspiration)"
   ]
  },
  {
   "cell_type": "code",
   "execution_count": 192,
   "id": "928c8877",
   "metadata": {},
   "outputs": [
    {
     "data": {
      "text/plain": [
       "count      203\n",
       "unique       2\n",
       "top       four\n",
       "freq       114\n",
       "Name: num_of_doors, dtype: object"
      ]
     },
     "execution_count": 192,
     "metadata": {},
     "output_type": "execute_result"
    }
   ],
   "source": [
    "data.num_of_doors.describe()"
   ]
  },
  {
   "cell_type": "code",
   "execution_count": 193,
   "id": "1fc098d2",
   "metadata": {},
   "outputs": [
    {
     "data": {
      "text/plain": [
       "array(['two', 'four', nan], dtype=object)"
      ]
     },
     "execution_count": 193,
     "metadata": {},
     "output_type": "execute_result"
    }
   ],
   "source": [
    "data.num_of_doors.unique()"
   ]
  },
  {
   "cell_type": "code",
   "execution_count": 194,
   "id": "707e6e8f",
   "metadata": {},
   "outputs": [
    {
     "data": {
      "text/plain": [
       "<bound method IndexOpsMixin.value_counts of 0       two\n",
       "1       two\n",
       "2       two\n",
       "3      four\n",
       "4      four\n",
       "       ... \n",
       "200    four\n",
       "201    four\n",
       "202    four\n",
       "203    four\n",
       "204    four\n",
       "Name: num_of_doors, Length: 205, dtype: object>"
      ]
     },
     "execution_count": 194,
     "metadata": {},
     "output_type": "execute_result"
    }
   ],
   "source": [
    "data.num_of_doors.value_counts"
   ]
  },
  {
   "cell_type": "code",
   "execution_count": 195,
   "id": "305918e1",
   "metadata": {},
   "outputs": [
    {
     "name": "stderr",
     "output_type": "stream",
     "text": [
      "C:\\Users\\Dell\\anaconda3\\lib\\site-packages\\seaborn\\_decorators.py:36: FutureWarning: Pass the following variable as a keyword arg: x. From version 0.12, the only valid positional argument will be `data`, and passing other arguments without an explicit keyword will result in an error or misinterpretation.\n",
      "  warnings.warn(\n"
     ]
    },
    {
     "data": {
      "text/plain": [
       "<AxesSubplot:xlabel='num_of_doors', ylabel='count'>"
      ]
     },
     "execution_count": 195,
     "metadata": {},
     "output_type": "execute_result"
    },
    {
     "data": {
      "image/png": "[encoded data removed]",
      "text/plain": [
       "<Figure size 432x288 with 1 Axes>"
      ]
     },
     "metadata": {
      "needs_background": "light"
     },
     "output_type": "display_data"
    }
   ],
   "source": [
    "sns.countplot(data.num_of_doors)"
   ]
  },
  {
   "cell_type": "code",
   "execution_count": 196,
   "id": "28f54418",
   "metadata": {},
   "outputs": [
    {
     "data": {
      "text/plain": [
       "count       205\n",
       "unique        5\n",
       "top       sedan\n",
       "freq         96\n",
       "Name: body_style, dtype: object"
      ]
     },
     "execution_count": 196,
     "metadata": {},
     "output_type": "execute_result"
    }
   ],
   "source": [
    "data.body_style.describe()"
   ]
  },
  {
   "cell_type": "code",
   "execution_count": 197,
   "id": "4f84cc47",
   "metadata": {},
   "outputs": [
    {
     "data": {
      "text/plain": [
       "array(['convertible', 'hatchback', 'sedan', 'wagon', 'hardtop'],\n",
       "      dtype=object)"
      ]
     },
     "execution_count": 197,
     "metadata": {},
     "output_type": "execute_result"
    }
   ],
   "source": [
    "data.body_style.unique()"
   ]
  },
  {
   "cell_type": "code",
   "execution_count": 198,
   "id": "b00829e7",
   "metadata": {},
   "outputs": [
    {
     "data": {
      "text/plain": [
       "<bound method IndexOpsMixin.value_counts of 0      convertible\n",
       "1      convertible\n",
       "2        hatchback\n",
       "3            sedan\n",
       "4            sedan\n",
       "          ...     \n",
       "200          sedan\n",
       "201          sedan\n",
       "202          sedan\n",
       "203          sedan\n",
       "204          sedan\n",
       "Name: body_style, Length: 205, dtype: object>"
      ]
     },
     "execution_count": 198,
     "metadata": {},
     "output_type": "execute_result"
    }
   ],
   "source": [
    "data.body_style.value_counts"
   ]
  },
  {
   "cell_type": "code",
   "execution_count": 199,
   "id": "3ef5d1e0",
   "metadata": {},
   "outputs": [
    {
     "name": "stderr",
     "output_type": "stream",
     "text": [
      "C:\\Users\\Dell\\anaconda3\\lib\\site-packages\\seaborn\\_decorators.py:36: FutureWarning: Pass the following variable as a keyword arg: x. From version 0.12, the only valid positional argument will be `data`, and passing other arguments without an explicit keyword will result in an error or misinterpretation.\n",
      "  warnings.warn(\n"
     ]
    },
    {
     "data": {
      "text/plain": [
       "<AxesSubplot:xlabel='body_style', ylabel='count'>"
      ]
     },
     "execution_count": 199,
     "metadata": {},
     "output_type": "execute_result"
    },
    {
     "data": {
      "image/png": "[encoded data removed]",
      "text/plain": [
       "<Figure size 432x288 with 1 Axes>"
      ]
     },
     "metadata": {
      "needs_background": "light"
     },
     "output_type": "display_data"
    }
   ],
   "source": [
    "sns.countplot(data.body_style)"
   ]
  },
  {
   "cell_type": "code",
   "execution_count": 203,
   "id": "042092ee",
   "metadata": {},
   "outputs": [
    {
     "data": {
      "text/plain": [
       "count     205\n",
       "unique      3\n",
       "top       fwd\n",
       "freq      120\n",
       "Name: drive_wheels, dtype: object"
      ]
     },
     "execution_count": 203,
     "metadata": {},
     "output_type": "execute_result"
    }
   ],
   "source": [
    "data.drive_wheels.describe()       \n"
   ]
  },
  {
   "cell_type": "code",
   "execution_count": 204,
   "id": "e6a26fb9",
   "metadata": {},
   "outputs": [
    {
     "data": {
      "text/plain": [
       "array(['rwd', 'fwd', '4wd'], dtype=object)"
      ]
     },
     "execution_count": 204,
     "metadata": {},
     "output_type": "execute_result"
    }
   ],
   "source": [
    "data.drive_wheels.unique() "
   ]
  },
  {
   "cell_type": "code",
   "execution_count": 293,
   "id": "8ca5a398",
   "metadata": {},
   "outputs": [
    {
     "data": {
      "text/plain": [
       "0"
      ]
     },
     "execution_count": 293,
     "metadata": {},
     "output_type": "execute_result"
    }
   ],
   "source": [
    "data.drive_wheels.isnull().sum() "
   ]
  },
  {
   "cell_type": "code",
   "execution_count": null,
   "id": "03c64758",
   "metadata": {},
   "outputs": [],
   "source": []
  },
  {
   "cell_type": "code",
   "execution_count": 205,
   "id": "3e36db45",
   "metadata": {},
   "outputs": [
    {
     "data": {
      "text/plain": [
       "<bound method IndexOpsMixin.value_counts of 0      rwd\n",
       "1      rwd\n",
       "2      rwd\n",
       "3      fwd\n",
       "4      4wd\n",
       "      ... \n",
       "200    rwd\n",
       "201    rwd\n",
       "202    rwd\n",
       "203    rwd\n",
       "204    rwd\n",
       "Name: drive_wheels, Length: 205, dtype: object>"
      ]
     },
     "execution_count": 205,
     "metadata": {},
     "output_type": "execute_result"
    }
   ],
   "source": [
    "data.drive_wheels.value_counts"
   ]
  },
  {
   "cell_type": "code",
   "execution_count": 206,
   "id": "df6247f4",
   "metadata": {},
   "outputs": [
    {
     "name": "stderr",
     "output_type": "stream",
     "text": [
      "C:\\Users\\Dell\\anaconda3\\lib\\site-packages\\seaborn\\_decorators.py:36: FutureWarning: Pass the following variable as a keyword arg: x. From version 0.12, the only valid positional argument will be `data`, and passing other arguments without an explicit keyword will result in an error or misinterpretation.\n",
      "  warnings.warn(\n"
     ]
    },
    {
     "data": {
      "text/plain": [
       "<AxesSubplot:xlabel='drive_wheels', ylabel='count'>"
      ]
     },
     "execution_count": 206,
     "metadata": {},
     "output_type": "execute_result"
    },
    {
     "data": {
      "image/png": "[encoded data removed]",
      "text/plain": [
       "<Figure size 432x288 with 1 Axes>"
      ]
     },
     "metadata": {
      "needs_background": "light"
     },
     "output_type": "display_data"
    }
   ],
   "source": [
    "sns.countplot(data.drive_wheels)"
   ]
  },
  {
   "cell_type": "code",
   "execution_count": 209,
   "id": "c9cb88fc",
   "metadata": {},
   "outputs": [
    {
     "data": {
      "text/plain": [
       "count       205\n",
       "unique        2\n",
       "top       front\n",
       "freq        202\n",
       "Name: engine_location, dtype: object"
      ]
     },
     "execution_count": 209,
     "metadata": {},
     "output_type": "execute_result"
    }
   ],
   "source": [
    " data.engine_location.describe()"
   ]
  },
  {
   "cell_type": "code",
   "execution_count": 210,
   "id": "650d8fd2",
   "metadata": {},
   "outputs": [
    {
     "data": {
      "text/plain": [
       "array(['front', 'rear'], dtype=object)"
      ]
     },
     "execution_count": 210,
     "metadata": {},
     "output_type": "execute_result"
    }
   ],
   "source": [
    "data.engine_location.unique()"
   ]
  },
  {
   "cell_type": "code",
   "execution_count": 212,
   "id": "9e36cf77",
   "metadata": {},
   "outputs": [
    {
     "data": {
      "text/plain": [
       "front    202\n",
       "rear       3\n",
       "Name: engine_location, dtype: int64"
      ]
     },
     "execution_count": 212,
     "metadata": {},
     "output_type": "execute_result"
    }
   ],
   "source": [
    "data.engine_location.value_counts()\n"
   ]
  },
  {
   "cell_type": "code",
   "execution_count": 214,
   "id": "a69a3c57",
   "metadata": {},
   "outputs": [
    {
     "name": "stderr",
     "output_type": "stream",
     "text": [
      "C:\\Users\\Dell\\anaconda3\\lib\\site-packages\\seaborn\\_decorators.py:36: FutureWarning: Pass the following variable as a keyword arg: x. From version 0.12, the only valid positional argument will be `data`, and passing other arguments without an explicit keyword will result in an error or misinterpretation.\n",
      "  warnings.warn(\n"
     ]
    },
    {
     "data": {
      "text/plain": [
       "<AxesSubplot:xlabel='engine_location', ylabel='count'>"
      ]
     },
     "execution_count": 214,
     "metadata": {},
     "output_type": "execute_result"
    },
    {
     "data": {
      "image/png": "[encoded data removed]",
      "text/plain": [
       "<Figure size 432x288 with 1 Axes>"
      ]
     },
     "metadata": {
      "needs_background": "light"
     },
     "output_type": "display_data"
    }
   ],
   "source": [
    "sns.countplot(data.engine_location)"
   ]
  },
  {
   "cell_type": "code",
   "execution_count": 215,
   "id": "c7aa8481",
   "metadata": {},
   "outputs": [
    {
     "data": {
      "text/plain": [
       "count     205\n",
       "unique      7\n",
       "top       ohc\n",
       "freq      148\n",
       "Name: engine_type, dtype: object"
      ]
     },
     "execution_count": 215,
     "metadata": {},
     "output_type": "execute_result"
    }
   ],
   "source": [
    "data.engine_type.describe()"
   ]
  },
  {
   "cell_type": "code",
   "execution_count": 216,
   "id": "f1b7e963",
   "metadata": {},
   "outputs": [
    {
     "data": {
      "text/plain": [
       "array(['dohc', 'ohcv', 'ohc', 'l', 'rotor', 'ohcf', 'dohcv'], dtype=object)"
      ]
     },
     "execution_count": 216,
     "metadata": {},
     "output_type": "execute_result"
    }
   ],
   "source": [
    "data.engine_type.unique()"
   ]
  },
  {
   "cell_type": "code",
   "execution_count": 217,
   "id": "b5ca74a1",
   "metadata": {},
   "outputs": [
    {
     "data": {
      "text/plain": [
       "<bound method IndexOpsMixin.value_counts of 0      dohc\n",
       "1      dohc\n",
       "2      ohcv\n",
       "3       ohc\n",
       "4       ohc\n",
       "       ... \n",
       "200     ohc\n",
       "201     ohc\n",
       "202    ohcv\n",
       "203     ohc\n",
       "204     ohc\n",
       "Name: engine_type, Length: 205, dtype: object>"
      ]
     },
     "execution_count": 217,
     "metadata": {},
     "output_type": "execute_result"
    }
   ],
   "source": [
    "data.engine_type.value_counts"
   ]
  },
  {
   "cell_type": "code",
   "execution_count": 218,
   "id": "0c0ce163",
   "metadata": {},
   "outputs": [
    {
     "name": "stderr",
     "output_type": "stream",
     "text": [
      "C:\\Users\\Dell\\anaconda3\\lib\\site-packages\\seaborn\\_decorators.py:36: FutureWarning: Pass the following variable as a keyword arg: x. From version 0.12, the only valid positional argument will be `data`, and passing other arguments without an explicit keyword will result in an error or misinterpretation.\n",
      "  warnings.warn(\n"
     ]
    },
    {
     "data": {
      "text/plain": [
       "<AxesSubplot:xlabel='engine_type', ylabel='count'>"
      ]
     },
     "execution_count": 218,
     "metadata": {},
     "output_type": "execute_result"
    },
    {
     "data": {
      "image/png": "[encoded data removed]",
      "text/plain": [
       "<Figure size 432x288 with 1 Axes>"
      ]
     },
     "metadata": {
      "needs_background": "light"
     },
     "output_type": "display_data"
    }
   ],
   "source": [
    "sns.countplot(data.engine_type)"
   ]
  },
  {
   "cell_type": "code",
   "execution_count": 220,
   "id": "b2ce748b",
   "metadata": {},
   "outputs": [],
   "source": [
    "data.engine_type.replace(['dohc','ohcv','l','rotor','ohcf','dohcv'],['non ohc','non ohc','non ohc','non ohc','non ohc','non ohc'],inplace=True)"
   ]
  },
  {
   "cell_type": "code",
   "execution_count": 221,
   "id": "5e995eae",
   "metadata": {},
   "outputs": [
    {
     "data": {
      "text/plain": [
       "ohc        148\n",
       "non ohc     57\n",
       "Name: engine_type, dtype: int64"
      ]
     },
     "execution_count": 221,
     "metadata": {},
     "output_type": "execute_result"
    }
   ],
   "source": [
    "data.engine_type.value_counts()\n",
    "\n"
   ]
  },
  {
   "cell_type": "code",
   "execution_count": 223,
   "id": "53fa2cab",
   "metadata": {},
   "outputs": [
    {
     "name": "stderr",
     "output_type": "stream",
     "text": [
      "C:\\Users\\Dell\\anaconda3\\lib\\site-packages\\seaborn\\_decorators.py:36: FutureWarning: Pass the following variable as a keyword arg: x. From version 0.12, the only valid positional argument will be `data`, and passing other arguments without an explicit keyword will result in an error or misinterpretation.\n",
      "  warnings.warn(\n"
     ]
    },
    {
     "data": {
      "text/plain": [
       "<AxesSubplot:xlabel='engine_type', ylabel='count'>"
      ]
     },
     "execution_count": 223,
     "metadata": {},
     "output_type": "execute_result"
    },
    {
     "data": {
      "image/png": "[encoded data removed]",
      "text/plain": [
       "<Figure size 432x288 with 1 Axes>"
      ]
     },
     "metadata": {
      "needs_background": "light"
     },
     "output_type": "display_data"
    }
   ],
   "source": [
    "sns.countplot(data.engine_type)\n"
   ]
  },
  {
   "cell_type": "code",
   "execution_count": 298,
   "id": "0f3f6433",
   "metadata": {},
   "outputs": [
    {
     "data": {
      "text/plain": [
       "count      205\n",
       "unique       7\n",
       "top       four\n",
       "freq       159\n",
       "Name: num_of_cylinders, dtype: object"
      ]
     },
     "execution_count": 298,
     "metadata": {},
     "output_type": "execute_result"
    }
   ],
   "source": [
    "data.num_of_cylinders.describe()"
   ]
  },
  {
   "cell_type": "code",
   "execution_count": 299,
   "id": "3f8473c5",
   "metadata": {},
   "outputs": [
    {
     "data": {
      "text/plain": [
       "array(['four', 'six', 'five', 'three', 'twelve', 'two', 'eight'],\n",
       "      dtype=object)"
      ]
     },
     "execution_count": 299,
     "metadata": {},
     "output_type": "execute_result"
    }
   ],
   "source": [
    "data.num_of_cylinders.unique()"
   ]
  },
  {
   "cell_type": "code",
   "execution_count": 300,
   "id": "36a502aa",
   "metadata": {},
   "outputs": [
    {
     "data": {
      "text/plain": [
       "four      159\n",
       "six        24\n",
       "five       11\n",
       "eight       5\n",
       "two         4\n",
       "three       1\n",
       "twelve      1\n",
       "Name: num_of_cylinders, dtype: int64"
      ]
     },
     "execution_count": 300,
     "metadata": {},
     "output_type": "execute_result"
    }
   ],
   "source": [
    "data.num_of_cylinders.value_counts()"
   ]
  },
  {
   "cell_type": "code",
   "execution_count": 301,
   "id": "fd168f21",
   "metadata": {},
   "outputs": [
    {
     "name": "stderr",
     "output_type": "stream",
     "text": [
      "C:\\Users\\Dell\\anaconda3\\lib\\site-packages\\seaborn\\_decorators.py:36: FutureWarning: Pass the following variable as a keyword arg: x. From version 0.12, the only valid positional argument will be `data`, and passing other arguments without an explicit keyword will result in an error or misinterpretation.\n",
      "  warnings.warn(\n"
     ]
    },
    {
     "data": {
      "text/plain": [
       "<AxesSubplot:xlabel='num_of_cylinders', ylabel='count'>"
      ]
     },
     "execution_count": 301,
     "metadata": {},
     "output_type": "execute_result"
    },
    {
     "data": {
      "image/png": "[encoded data removed]",
      "text/plain": [
       "<Figure size 432x288 with 1 Axes>"
      ]
     },
     "metadata": {
      "needs_background": "light"
     },
     "output_type": "display_data"
    }
   ],
   "source": [
    "sns.countplot(data.num_of_cylinders)\n"
   ]
  },
  {
   "cell_type": "code",
   "execution_count": 303,
   "id": "7463211a",
   "metadata": {},
   "outputs": [],
   "source": [
    "data.num_of_cylinders.replace(['six','five','three','twelve','two','eight'],['other than four','other than four','other than four','other than four','other than four','other than four'],inplace=True)\n"
   ]
  },
  {
   "cell_type": "code",
   "execution_count": 304,
   "id": "15acbab8",
   "metadata": {},
   "outputs": [
    {
     "name": "stderr",
     "output_type": "stream",
     "text": [
      "C:\\Users\\Dell\\anaconda3\\lib\\site-packages\\seaborn\\_decorators.py:36: FutureWarning: Pass the following variable as a keyword arg: x. From version 0.12, the only valid positional argument will be `data`, and passing other arguments without an explicit keyword will result in an error or misinterpretation.\n",
      "  warnings.warn(\n"
     ]
    },
    {
     "data": {
      "text/plain": [
       "<AxesSubplot:xlabel='num_of_cylinders', ylabel='count'>"
      ]
     },
     "execution_count": 304,
     "metadata": {},
     "output_type": "execute_result"
    },
    {
     "data": {
      "image/png": "[encoded data removed]",
      "text/plain": [
       "<Figure size 432x288 with 1 Axes>"
      ]
     },
     "metadata": {
      "needs_background": "light"
     },
     "output_type": "display_data"
    }
   ],
   "source": [
    "sns.countplot(data.num_of_cylinders)"
   ]
  },
  {
   "cell_type": "code",
   "execution_count": 309,
   "id": "cdddfab5",
   "metadata": {},
   "outputs": [
    {
     "data": {
      "text/plain": [
       "count      205\n",
       "unique       8\n",
       "top       mpfi\n",
       "freq        94\n",
       "Name: fuel_system, dtype: object"
      ]
     },
     "execution_count": 309,
     "metadata": {},
     "output_type": "execute_result"
    }
   ],
   "source": [
    "data.fuel_system.describe()"
   ]
  },
  {
   "cell_type": "code",
   "execution_count": 310,
   "id": "44b749d5",
   "metadata": {},
   "outputs": [
    {
     "data": {
      "text/plain": [
       "array(['mpfi', '2bbl', 'mfi', '1bbl', 'spfi', '4bbl', 'idi', 'spdi'],\n",
       "      dtype=object)"
      ]
     },
     "execution_count": 310,
     "metadata": {},
     "output_type": "execute_result"
    }
   ],
   "source": [
    "data.fuel_system.unique()"
   ]
  },
  {
   "cell_type": "code",
   "execution_count": 311,
   "id": "b15c6f9e",
   "metadata": {},
   "outputs": [
    {
     "data": {
      "text/plain": [
       "mpfi    94\n",
       "2bbl    66\n",
       "idi     20\n",
       "1bbl    11\n",
       "spdi     9\n",
       "4bbl     3\n",
       "mfi      1\n",
       "spfi     1\n",
       "Name: fuel_system, dtype: int64"
      ]
     },
     "execution_count": 311,
     "metadata": {},
     "output_type": "execute_result"
    }
   ],
   "source": [
    "data.fuel_system.value_counts()"
   ]
  },
  {
   "cell_type": "code",
   "execution_count": 312,
   "id": "25160e6e",
   "metadata": {},
   "outputs": [
    {
     "name": "stderr",
     "output_type": "stream",
     "text": [
      "C:\\Users\\Dell\\anaconda3\\lib\\site-packages\\seaborn\\_decorators.py:36: FutureWarning: Pass the following variable as a keyword arg: x. From version 0.12, the only valid positional argument will be `data`, and passing other arguments without an explicit keyword will result in an error or misinterpretation.\n",
      "  warnings.warn(\n"
     ]
    },
    {
     "data": {
      "text/plain": [
       "<AxesSubplot:xlabel='fuel_system', ylabel='count'>"
      ]
     },
     "execution_count": 312,
     "metadata": {},
     "output_type": "execute_result"
    },
    {
     "data": {
      "image/png": "[encoded data removed]",
      "text/plain": [
       "<Figure size 432x288 with 1 Axes>"
      ]
     },
     "metadata": {
      "needs_background": "light"
     },
     "output_type": "display_data"
    }
   ],
   "source": [
    "sns.countplot(data.fuel_system)"
   ]
  },
  {
   "cell_type": "code",
   "execution_count": 313,
   "id": "b3778558",
   "metadata": {},
   "outputs": [],
   "source": [
    "data.fuel_system.replace(['mfi','1bbl','spfi','4bbl','idi','spdi'],['others','others','others','others','others','others'],inplace=True)\n"
   ]
  },
  {
   "cell_type": "code",
   "execution_count": 314,
   "id": "735cdfa1",
   "metadata": {},
   "outputs": [
    {
     "name": "stderr",
     "output_type": "stream",
     "text": [
      "C:\\Users\\Dell\\anaconda3\\lib\\site-packages\\seaborn\\_decorators.py:36: FutureWarning: Pass the following variable as a keyword arg: x. From version 0.12, the only valid positional argument will be `data`, and passing other arguments without an explicit keyword will result in an error or misinterpretation.\n",
      "  warnings.warn(\n"
     ]
    },
    {
     "data": {
      "text/plain": [
       "<AxesSubplot:xlabel='fuel_system', ylabel='count'>"
      ]
     },
     "execution_count": 314,
     "metadata": {},
     "output_type": "execute_result"
    },
    {
     "data": {
      "image/png": "[encoded data removed]",
      "text/plain": [
       "<Figure size 432x288 with 1 Axes>"
      ]
     },
     "metadata": {
      "needs_background": "light"
     },
     "output_type": "display_data"
    }
   ],
   "source": [
    "sns.countplot(data.fuel_system)"
   ]
  },
  {
   "cell_type": "code",
   "execution_count": 246,
   "id": "53629a6b",
   "metadata": {},
   "outputs": [
    {
     "name": "stdout",
     "output_type": "stream",
     "text": [
      "(0.09433688572120794, 0.17848256271997326)\n"
     ]
    }
   ],
   "source": [
    "status=stats.pearsonr(data.normalized_losses,data.price)\n",
    "print(status)\n"
   ]
  },
  {
   "cell_type": "code",
   "execution_count": 247,
   "id": "1a513af4",
   "metadata": {},
   "outputs": [
    {
     "name": "stdout",
     "output_type": "stream",
     "text": [
      "(0.5831681499789547, 4.527625545686765e-20)\n"
     ]
    }
   ],
   "source": [
    "\n",
    "\n",
    "status=stats.pearsonr(data.wheel_base,data.price)\n",
    "print(status)\n"
   ]
  },
  {
   "cell_type": "code",
   "execution_count": 248,
   "id": "ede7e37f",
   "metadata": {},
   "outputs": [
    {
     "name": "stdout",
     "output_type": "stream",
     "text": [
      "(0.6829862954386219, 1.6498873291218535e-29)\n"
     ]
    }
   ],
   "source": [
    "status=stats.pearsonr(data.length,data.price)\n",
    "print(status)"
   ]
  },
  {
   "cell_type": "code",
   "execution_count": 249,
   "id": "f28c83a6",
   "metadata": {},
   "outputs": [
    {
     "name": "stdout",
     "output_type": "stream",
     "text": [
      "(0.7286988175931839, 3.214520483804664e-35)\n"
     ]
    }
   ],
   "source": [
    "status=stats.pearsonr(data.width,data.price)\n",
    "print(status)"
   ]
  },
  {
   "cell_type": "code",
   "execution_count": 250,
   "id": "b0e53a4f",
   "metadata": {},
   "outputs": [
    {
     "name": "stdout",
     "output_type": "stream",
     "text": [
      "(0.13438751871051807, 0.05471982048424776)\n"
     ]
    }
   ],
   "source": [
    "status=stats.pearsonr(data.height,data.price)\n",
    "print(status)\n"
   ]
  },
  {
   "cell_type": "code",
   "execution_count": 251,
   "id": "5bfd8124",
   "metadata": {},
   "outputs": [
    {
     "name": "stdout",
     "output_type": "stream",
     "text": [
      "(0.820824733354729, 2.8663321070270534e-51)\n"
     ]
    }
   ],
   "source": [
    "status=stats.pearsonr(data.curb_weight,data.price)\n",
    "print(status)\n",
    "\n"
   ]
  },
  {
   "cell_type": "code",
   "execution_count": 252,
   "id": "79d202c0",
   "metadata": {},
   "outputs": [
    {
     "name": "stdout",
     "output_type": "stream",
     "text": [
      "(0.8617522436859721, 9.669661923634776e-62)\n"
     ]
    }
   ],
   "source": [
    "status=stats.pearsonr(data.engine_size,data.price)\n",
    "print(status)\n"
   ]
  },
  {
   "cell_type": "code",
   "execution_count": 257,
   "id": "403eec2f",
   "metadata": {},
   "outputs": [
    {
     "name": "stdout",
     "output_type": "stream",
     "text": [
      "(0.5323000195387407, 2.1398306512855486e-16)\n"
     ]
    }
   ],
   "source": [
    "status=stats.pearsonr(data.bore,data.price)\n",
    "print(status)\n",
    "\n"
   ]
  },
  {
   "cell_type": "code",
   "execution_count": 262,
   "id": "514d3d4f",
   "metadata": {},
   "outputs": [
    {
     "name": "stdout",
     "output_type": "stream",
     "text": [
      "(0.08209529554134327, 0.24191456857746316)\n"
     ]
    }
   ],
   "source": [
    "\n",
    "status=stats.pearsonr(data.stroke,data.price)\n",
    "print(status)"
   ]
  },
  {
   "cell_type": "code",
   "execution_count": 264,
   "id": "0f584d21",
   "metadata": {},
   "outputs": [
    {
     "name": "stdout",
     "output_type": "stream",
     "text": [
      "(0.07099036277901556, 0.31178249194905244)\n"
     ]
    }
   ],
   "source": [
    "status=stats.pearsonr(data.compression_ratio,data.price)\n",
    "print(status)\n",
    "\n"
   ]
  },
  {
   "cell_type": "code",
   "execution_count": 269,
   "id": "8fbc74a9",
   "metadata": {},
   "outputs": [
    {
     "name": "stdout",
     "output_type": "stream",
     "text": [
      "(0.7579169537498177, 1.6076703978130332e-39)\n"
     ]
    }
   ],
   "source": [
    "status=stats.pearsonr(data.horsepower,data.price)\n",
    "print(status)\n"
   ]
  },
  {
   "cell_type": "code",
   "execution_count": 275,
   "id": "f9e17766",
   "metadata": {},
   "outputs": [
    {
     "name": "stdout",
     "output_type": "stream",
     "text": [
      "(-0.10085406591169085, 0.15019246954232154)\n"
     ]
    }
   ],
   "source": [
    "status=stats.pearsonr(data.peak_rpm,data.price)\n",
    "print(status)\n",
    "\n",
    "\n"
   ]
  },
  {
   "cell_type": "code",
   "execution_count": 276,
   "id": "b9373a9b",
   "metadata": {},
   "outputs": [
    {
     "name": "stdout",
     "output_type": "stream",
     "text": [
      "(-0.6674492651600004, 8.463700497727807e-28)\n"
     ]
    }
   ],
   "source": [
    "status=stats.pearsonr(data.city_mpg,data.price)\n",
    "print(status)\n",
    "\n",
    "\n"
   ]
  },
  {
   "cell_type": "code",
   "execution_count": 278,
   "id": "11f64864",
   "metadata": {},
   "outputs": [
    {
     "name": "stdout",
     "output_type": "stream",
     "text": [
      "(-0.6905257341183488, 2.23246740583743e-30)\n"
     ]
    }
   ],
   "source": [
    "status=stats.pearsonr(data.highway_mpg,data.price)\n",
    "print(status)\n",
    "\n"
   ]
  },
  {
   "cell_type": "code",
   "execution_count": 279,
   "id": "c632d1fe",
   "metadata": {},
   "outputs": [
    {
     "data": {
      "text/plain": [
       "F_onewayResult(statistic=8.596939059364374, pvalue=2.0165673443215324e-06)"
      ]
     },
     "execution_count": 279,
     "metadata": {},
     "output_type": "execute_result"
    }
   ],
   "source": [
    "part1=data.price[data.symboling==\"less than zero\"]\n",
    "part2=data.price[data.symboling==\"zero\"]\n",
    "part3=data.price[data.symboling==\"one\"]\n",
    "part4=data.price[data.symboling==\"two\"]\n",
    "part5=data.price[data.symboling==\"three\"]\n",
    "stats.f_oneway(part1,part2,part3,part4,part5)\n",
    "\n",
    "\n"
   ]
  },
  {
   "cell_type": "code",
   "execution_count": 280,
   "id": "dbc92caf",
   "metadata": {},
   "outputs": [
    {
     "data": {
      "text/plain": [
       "F_onewayResult(statistic=29.502215511030318, pvalue=1.019817853242973e-47)"
      ]
     },
     "execution_count": 280,
     "metadata": {},
     "output_type": "execute_result"
    }
   ],
   "source": [
    "part1=data.price[data.make==\"alfa-romero\"]\n",
    "part2=data.price[data.make==\"audi\"]\n",
    "part3=data.price[data.make==\"bmw\"]\n",
    "part4=data.price[data.make==\"chevrolet\"]\n",
    "part5=data.price[data.make==\"dodge\"]\n",
    "part6=data.price[data.make==\"honda\"]\n",
    "part7=data.price[data.make==\"isuzu\"]\n",
    "part8=data.price[data.make==\"jaguar\"]\n",
    "part9=data.price[data.make==\"mazda\"]\n",
    "part10=data.price[data.make==\"mercedes-benz\"]\n",
    "part11=data.price[data.make==\"mercury\"]\n",
    "part12=data.price[data.make==\"mitsubishi\"]\n",
    "part13=data.price[data.make==\"nissan\"]\n",
    "part14=data.price[data.make==\"peugot\"]\n",
    "part15=data.price[data.make==\"plymouth\"]\n",
    "part16=data.price[data.make==\"porsche\"]\n",
    "part17=data.price[data.make==\"renault\"]\n",
    "part18=data.price[data.make==\"saab\"]\n",
    "part19=data.price[data.make==\"subaru\"]\n",
    "part20=data.price[data.make==\"toyota\"]\n",
    "part21=data.price[data.make==\"volkswagen\"]\n",
    "part22=data.price[data.make==\"volvo\"]\n",
    "stats.f_oneway(part1,part2,part3,part4,part5,part6,part7,part8,part9,part10,part11,part12,part13,part14,part15,part16,part17,part18,part19,part20,part21,part22)\n",
    "\n"
   ]
  },
  {
   "cell_type": "code",
   "execution_count": 281,
   "id": "1a3c9fc5",
   "metadata": {},
   "outputs": [
    {
     "data": {
      "text/plain": [
       "F_onewayResult(statistic=2.4958589760681935, pvalue=0.11570297526361666)"
      ]
     },
     "execution_count": 281,
     "metadata": {},
     "output_type": "execute_result"
    }
   ],
   "source": [
    "\n",
    "part1=data.price[data.fuel_type==\"gas\"]\n",
    "part2=data.price[data.fuel_type==\"diesel\"]\n",
    "stats.f_oneway(part1,part2)\n"
   ]
  },
  {
   "cell_type": "code",
   "execution_count": 284,
   "id": "1a9ea7bc",
   "metadata": {},
   "outputs": [
    {
     "data": {
      "text/plain": [
       "F_onewayResult(statistic=6.587289855140993, pvalue=0.010991046478632666)"
      ]
     },
     "execution_count": 284,
     "metadata": {},
     "output_type": "execute_result"
    }
   ],
   "source": [
    "\n",
    "part1=data.price[data.aspiration==\"std\"]\n",
    "part2=data.price[data.aspiration==\"turbo\"]\n",
    "stats.f_oneway(part1,part2)\n",
    "\n",
    "\n"
   ]
  },
  {
   "cell_type": "code",
   "execution_count": 286,
   "id": "5cf47403",
   "metadata": {},
   "outputs": [
    {
     "data": {
      "text/plain": [
       "F_onewayResult(statistic=0.42717100936205654, pvalue=0.5141273489201855)"
      ]
     },
     "execution_count": 286,
     "metadata": {},
     "output_type": "execute_result"
    }
   ],
   "source": [
    "part1=data.price[data.num_of_doors==\"two\"]\n",
    "part2=data.price[data.num_of_doors==\"four\"]\n",
    "stats.f_oneway(part1,part2)"
   ]
  },
  {
   "cell_type": "code",
   "execution_count": 287,
   "id": "ec79262a",
   "metadata": {},
   "outputs": [
    {
     "data": {
      "text/plain": [
       "F_onewayResult(statistic=9.183927252573389, pvalue=7.844575720929884e-07)"
      ]
     },
     "execution_count": 287,
     "metadata": {},
     "output_type": "execute_result"
    }
   ],
   "source": [
    "part1=data.price[data.body_style==\"convertible\"]\n",
    "part2=data.price[data.body_style==\"hatchback\"]\n",
    "part3=data.price[data.body_style==\"sedan\"]\n",
    "part4=data.price[data.body_style==\"wagon\"]\n",
    "part5=data.price[data.body_style==\"hardtop\"]\n",
    "stats.f_oneway(part1,part2,part3,part4,part5)\n",
    "\n",
    "\n"
   ]
  },
  {
   "cell_type": "code",
   "execution_count": 308,
   "id": "1369ba82",
   "metadata": {},
   "outputs": [
    {
     "data": {
      "text/plain": [
       "F_onewayResult(statistic=nan, pvalue=nan)"
      ]
     },
     "execution_count": 308,
     "metadata": {},
     "output_type": "execute_result"
    }
   ],
   "source": [
    "\n",
    "\n",
    "part1=data.price[data.drive_wheels==\"not fwd\"]\n",
    "part2=data.price[data.drive_wheels==\"fwd\"]\n",
    "stats.f_oneway(part1,part2)"
   ]
  },
  {
   "cell_type": "code",
   "execution_count": 294,
   "id": "800221cc",
   "metadata": {},
   "outputs": [
    {
     "data": {
      "text/plain": [
       "F_onewayResult(statistic=24.979629190446918, pvalue=1.2486063656822578e-06)"
      ]
     },
     "execution_count": 294,
     "metadata": {},
     "output_type": "execute_result"
    }
   ],
   "source": [
    "part1=data.price[data.engine_location==\"front\"]\n",
    "part2=data.price[data.engine_location==\"rear\"]\n",
    "stats.f_oneway(part1,part2)"
   ]
  },
  {
   "cell_type": "code",
   "execution_count": 295,
   "id": "30050625",
   "metadata": {},
   "outputs": [
    {
     "data": {
      "text/plain": [
       "F_onewayResult(statistic=24.772969427209247, pvalue=1.3736873269953891e-06)"
      ]
     },
     "execution_count": 295,
     "metadata": {},
     "output_type": "execute_result"
    }
   ],
   "source": [
    "part1=data.price[data.engine_type==\"non ohc\"]\n",
    "part2=data.price[data.engine_type==\"ohc\"]\n",
    "stats.f_oneway(part1,part2)\n"
   ]
  },
  {
   "cell_type": "code",
   "execution_count": 307,
   "id": "2daf626d",
   "metadata": {},
   "outputs": [
    {
     "data": {
      "text/plain": [
       "F_onewayResult(statistic=173.79146873931847, pvalue=4.465221610591922e-29)"
      ]
     },
     "execution_count": 307,
     "metadata": {},
     "output_type": "execute_result"
    }
   ],
   "source": [
    "\n",
    "part1=data.price[data.num_of_cylinders==\"four\"]\n",
    "part2=data.price[data.num_of_cylinders==\"other than four\"]\n",
    "stats.f_oneway(part1,part2)\n",
    "\n"
   ]
  },
  {
   "cell_type": "code",
   "execution_count": 315,
   "id": "f7a76f32",
   "metadata": {},
   "outputs": [
    {
     "data": {
      "text/plain": [
       "F_onewayResult(statistic=44.08389496376925, pvalue=1.296937118227724e-16)"
      ]
     },
     "execution_count": 315,
     "metadata": {},
     "output_type": "execute_result"
    }
   ],
   "source": [
    "\n",
    "part1=data.price[data.fuel_system==\"mpfi\"]\n",
    "part2=data.price[data.fuel_system==\"2bbl\"]\n",
    "part3=data.price[data.fuel_system==\"others\"]\n",
    "stats.f_oneway(part1,part2,part3)\n"
   ]
  },
  {
   "cell_type": "code",
   "execution_count": 316,
   "id": "45e0e2b2",
   "metadata": {},
   "outputs": [],
   "source": [
    "y=data.price\n",
    "\n"
   ]
  },
  {
   "cell_type": "code",
   "execution_count": 320,
   "id": "3e12a48f",
   "metadata": {},
   "outputs": [],
   "source": [
    "x=data.drop(['price','normalized_losses','wheel_base','length','height','bore','stroke','compression_ratio','peak_rpm','city_mpg','highway_mpg','num_of_doors','fuel_type','symboling', 'make', 'aspiration','body_style', 'drive_wheels','engine_location', 'engine_type', 'num_of_cylinders','fuel_system'],axis=1)\n",
    "\n",
    "\n"
   ]
  },
  {
   "cell_type": "code",
   "execution_count": 321,
   "id": "ef920de4",
   "metadata": {},
   "outputs": [
    {
     "data": {
      "text/plain": [
       "Index(['width', 'curb_weight', 'engine_size', 'horsepower'], dtype='object')"
      ]
     },
     "execution_count": 321,
     "metadata": {},
     "output_type": "execute_result"
    }
   ],
   "source": [
    "x.columns\n"
   ]
  },
  {
   "cell_type": "code",
   "execution_count": 325,
   "id": "fe5c4b9f",
   "metadata": {},
   "outputs": [],
   "source": [
    "\n",
    "train_y=y.iloc[0:164]"
   ]
  },
  {
   "cell_type": "code",
   "execution_count": null,
   "id": "6616bbfd",
   "metadata": {},
   "outputs": [],
   "source": [
    "test_y=y.iloc[164:]"
   ]
  },
  {
   "cell_type": "code",
   "execution_count": 323,
   "id": "88fdbda4",
   "metadata": {},
   "outputs": [],
   "source": [
    "\n",
    "train_x=x.iloc[0:164]\n"
   ]
  },
  {
   "cell_type": "code",
   "execution_count": 324,
   "id": "d4f00677",
   "metadata": {},
   "outputs": [],
   "source": [
    "\n",
    "test_x=x.iloc[164:]"
   ]
  },
  {
   "cell_type": "code",
   "execution_count": 326,
   "id": "f35c3e39",
   "metadata": {},
   "outputs": [
    {
     "data": {
      "text/plain": [
       "(205, 4)"
      ]
     },
     "execution_count": 326,
     "metadata": {},
     "output_type": "execute_result"
    }
   ],
   "source": [
    "\n",
    "\n",
    "\n",
    "x.shape\n"
   ]
  },
  {
   "cell_type": "code",
   "execution_count": 327,
   "id": "c5c6cfd4",
   "metadata": {},
   "outputs": [
    {
     "data": {
      "text/plain": [
       "(205, 4)"
      ]
     },
     "execution_count": 327,
     "metadata": {},
     "output_type": "execute_result"
    }
   ],
   "source": [
    "\n",
    "x.shape\n"
   ]
  },
  {
   "cell_type": "code",
   "execution_count": 328,
   "id": "43d3e716",
   "metadata": {},
   "outputs": [],
   "source": [
    "x=train_x\n",
    "y=test_x"
   ]
  },
  {
   "cell_type": "code",
   "execution_count": 329,
   "id": "0b5390e9",
   "metadata": {},
   "outputs": [
    {
     "name": "stderr",
     "output_type": "stream",
     "text": [
      "C:\\Users\\Dell\\anaconda3\\lib\\site-packages\\statsmodels\\tsa\\tsatools.py:142: FutureWarning: In a future version of pandas all arguments of concat except for the argument 'objs' will be keyword-only\n",
      "  x = pd.concat(x[::order], 1)\n"
     ]
    }
   ],
   "source": [
    "\n",
    "\n",
    "train_x=sm.add_constant(train_x)\n",
    "test_x=sm.add_constant(test_x)\n"
   ]
  },
  {
   "cell_type": "code",
   "execution_count": 330,
   "id": "d6b0d6f2",
   "metadata": {},
   "outputs": [],
   "source": [
    "model=sm.OLS(train_y,train_x).fit()\n",
    "\n"
   ]
  },
  {
   "cell_type": "code",
   "execution_count": 331,
   "id": "e2caf6f2",
   "metadata": {},
   "outputs": [
    {
     "data": {
      "text/html": [
       "<table class=\"simpletable\">\n",
       "<caption>OLS Regression Results</caption>\n",
       "<tr>\n",
       "  <th>Dep. Variable:</th>          <td>price</td>      <th>  R-squared:         </th> <td>   0.795</td>\n",
       "</tr>\n",
       "<tr>\n",
       "  <th>Model:</th>                   <td>OLS</td>       <th>  Adj. R-squared:    </th> <td>   0.790</td>\n",
       "</tr>\n",
       "<tr>\n",
       "  <th>Method:</th>             <td>Least Squares</td>  <th>  F-statistic:       </th> <td>   154.1</td>\n",
       "</tr>\n",
       "<tr>\n",
       "  <th>Date:</th>             <td>Sun, 03 Apr 2022</td> <th>  Prob (F-statistic):</th> <td>1.28e-53</td>\n",
       "</tr>\n",
       "<tr>\n",
       "  <th>Time:</th>                 <td>23:07:40</td>     <th>  Log-Likelihood:    </th> <td> -1586.9</td>\n",
       "</tr>\n",
       "<tr>\n",
       "  <th>No. Observations:</th>      <td>   164</td>      <th>  AIC:               </th> <td>   3184.</td>\n",
       "</tr>\n",
       "<tr>\n",
       "  <th>Df Residuals:</th>          <td>   159</td>      <th>  BIC:               </th> <td>   3199.</td>\n",
       "</tr>\n",
       "<tr>\n",
       "  <th>Df Model:</th>              <td>     4</td>      <th>                     </th>     <td> </td>   \n",
       "</tr>\n",
       "<tr>\n",
       "  <th>Covariance Type:</th>      <td>nonrobust</td>    <th>                     </th>     <td> </td>   \n",
       "</tr>\n",
       "</table>\n",
       "<table class=\"simpletable\">\n",
       "<tr>\n",
       "       <td></td>          <th>coef</th>     <th>std err</th>      <th>t</th>      <th>P>|t|</th>  <th>[0.025</th>    <th>0.975]</th>  \n",
       "</tr>\n",
       "<tr>\n",
       "  <th>const</th>       <td>-2.277e+04</td> <td> 1.58e+04</td> <td>   -1.445</td> <td> 0.151</td> <td>-5.39e+04</td> <td> 8357.961</td>\n",
       "</tr>\n",
       "<tr>\n",
       "  <th>width</th>       <td>  183.8594</td> <td>  276.683</td> <td>    0.665</td> <td> 0.507</td> <td> -362.589</td> <td>  730.307</td>\n",
       "</tr>\n",
       "<tr>\n",
       "  <th>curb_weight</th> <td>    3.0052</td> <td>    1.476</td> <td>    2.037</td> <td> 0.043</td> <td>    0.091</td> <td>    5.919</td>\n",
       "</tr>\n",
       "<tr>\n",
       "  <th>engine_size</th> <td>  106.2351</td> <td>   15.368</td> <td>    6.913</td> <td> 0.000</td> <td>   75.883</td> <td>  136.588</td>\n",
       "</tr>\n",
       "<tr>\n",
       "  <th>horsepower</th>  <td>   28.1847</td> <td>   12.967</td> <td>    2.174</td> <td> 0.031</td> <td>    2.575</td> <td>   53.794</td>\n",
       "</tr>\n",
       "</table>\n",
       "<table class=\"simpletable\">\n",
       "<tr>\n",
       "  <th>Omnibus:</th>       <td>18.943</td> <th>  Durbin-Watson:     </th> <td>   1.075</td>\n",
       "</tr>\n",
       "<tr>\n",
       "  <th>Prob(Omnibus):</th> <td> 0.000</td> <th>  Jarque-Bera (JB):  </th> <td>  75.485</td>\n",
       "</tr>\n",
       "<tr>\n",
       "  <th>Skew:</th>          <td> 0.154</td> <th>  Prob(JB):          </th> <td>4.06e-17</td>\n",
       "</tr>\n",
       "<tr>\n",
       "  <th>Kurtosis:</th>      <td> 6.309</td> <th>  Cond. No.          </th> <td>1.34e+05</td>\n",
       "</tr>\n",
       "</table><br/><br/>Notes:<br/>[1] Standard Errors assume that the covariance matrix of the errors is correctly specified.<br/>[2] The condition number is large, 1.34e+05. This might indicate that there are<br/>strong multicollinearity or other numerical problems."
      ],
      "text/plain": [
       "<class 'statsmodels.iolib.summary.Summary'>\n",
       "\"\"\"\n",
       "                            OLS Regression Results                            \n",
       "==============================================================================\n",
       "Dep. Variable:                  price   R-squared:                       0.795\n",
       "Model:                            OLS   Adj. R-squared:                  0.790\n",
       "Method:                 Least Squares   F-statistic:                     154.1\n",
       "Date:                Sun, 03 Apr 2022   Prob (F-statistic):           1.28e-53\n",
       "Time:                        23:07:40   Log-Likelihood:                -1586.9\n",
       "No. Observations:                 164   AIC:                             3184.\n",
       "Df Residuals:                     159   BIC:                             3199.\n",
       "Df Model:                           4                                         \n",
       "Covariance Type:            nonrobust                                         \n",
       "===============================================================================\n",
       "                  coef    std err          t      P>|t|      [0.025      0.975]\n",
       "-------------------------------------------------------------------------------\n",
       "const       -2.277e+04   1.58e+04     -1.445      0.151   -5.39e+04    8357.961\n",
       "width         183.8594    276.683      0.665      0.507    -362.589     730.307\n",
       "curb_weight     3.0052      1.476      2.037      0.043       0.091       5.919\n",
       "engine_size   106.2351     15.368      6.913      0.000      75.883     136.588\n",
       "horsepower     28.1847     12.967      2.174      0.031       2.575      53.794\n",
       "==============================================================================\n",
       "Omnibus:                       18.943   Durbin-Watson:                   1.075\n",
       "Prob(Omnibus):                  0.000   Jarque-Bera (JB):               75.485\n",
       "Skew:                           0.154   Prob(JB):                     4.06e-17\n",
       "Kurtosis:                       6.309   Cond. No.                     1.34e+05\n",
       "==============================================================================\n",
       "\n",
       "Notes:\n",
       "[1] Standard Errors assume that the covariance matrix of the errors is correctly specified.\n",
       "[2] The condition number is large, 1.34e+05. This might indicate that there are\n",
       "strong multicollinearity or other numerical problems.\n",
       "\"\"\""
      ]
     },
     "execution_count": 331,
     "metadata": {},
     "output_type": "execute_result"
    }
   ],
   "source": [
    "\n",
    "model.summary()\n",
    "\n"
   ]
  },
  {
   "cell_type": "code",
   "execution_count": null,
   "id": "d631e2c2",
   "metadata": {},
   "outputs": [],
   "source": []
  }
 ],
 "metadata": {
  "kernelspec": {
   "display_name": "Python 3 (ipykernel)",
   "language": "python",
   "name": "python3"
  },
  "language_info": {
   "codemirror_mode": {
    "name": "ipython",
    "version": 3
   },
   "file_extension": ".py",
   "mimetype": "text/x-python",
   "name": "python",
   "nbconvert_exporter": "python",
   "pygments_lexer": "ipython3",
   "version": "3.9.7"
  }
 },
 "nbformat": 4,
 "nbformat_minor": 5
}
